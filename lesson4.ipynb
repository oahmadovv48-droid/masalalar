{
 "cells": [
  {
   "cell_type": "code",
   "execution_count": null,
   "id": "fab87773",
   "metadata": {},
   "outputs": [
    {
     "name": "stdout",
     "output_type": "stream",
     "text": [
      "12\n"
     ]
    }
   ],
   "source": [
    "n = int(input(\"n=\"))\n",
    "if n > 0:\n",
    "    n += 1\n",
    "print(n)"
   ]
  },
  {
   "cell_type": "code",
   "execution_count": null,
   "id": "af20fefe",
   "metadata": {},
   "outputs": [
    {
     "name": "stdout",
     "output_type": "stream",
     "text": [
      "-15\n"
     ]
    }
   ],
   "source": [
    "n = int(input(\"n=\"))\n",
    "if n > 0:\n",
    "    n += 1\n",
    "else:\n",
    "    n -= 2\n",
    "print(n)    "
   ]
  },
  {
   "cell_type": "code",
   "execution_count": null,
   "id": "f8f813c0",
   "metadata": {},
   "outputs": [
    {
     "name": "stdout",
     "output_type": "stream",
     "text": [
      "10\n"
     ]
    }
   ],
   "source": [
    "n = int(input(\"n=\"))\n",
    "if n > 0:\n",
    "    n += 1\n",
    "elif n < 0:\n",
    "    n -= 2\n",
    "else:\n",
    "    n = 10\n",
    "print(n)"
   ]
  },
  {
   "cell_type": "code",
   "execution_count": 12,
   "id": "db623421",
   "metadata": {},
   "outputs": [
    {
     "name": "stdout",
     "output_type": "stream",
     "text": [
      "Musbatlar soni: 1\n"
     ]
    }
   ],
   "source": [
    "a = int(input(\"a =\"))\n",
    "b = int(input(\"b =\"))\n",
    "c = int(input(\"c =\"))\n",
    "musbatlar = 0\n",
    "if a > 0:\n",
    "    musbatlar += 1\n",
    "if b > 0:\n",
    "    musbatlar += 1\n",
    "if c > 0:\n",
    "    musbatlar += 1\n",
    "print(\"Musbatlar soni:\",musbatlar)"
   ]
  },
  {
   "cell_type": "code",
   "execution_count": 13,
   "id": "6609d474",
   "metadata": {},
   "outputs": [
    {
     "name": "stdout",
     "output_type": "stream",
     "text": [
      "Misbatlar soni: 2 Manfiylar soni: 1\n"
     ]
    }
   ],
   "source": [
    "a = int(input(\"a =\"))\n",
    "b = int(input(\"b =\"))\n",
    "c = int(input(\"c =\"))\n",
    "musbatlar = 0\n",
    "manfiylar = 0\n",
    "if a > 0:\n",
    "    musbatlar += 1\n",
    "elif a < 0:\n",
    "    manfiylar += 1\n",
    "if b > 0:\n",
    "    musbatlar += 1\n",
    "elif b < 0:\n",
    "    manfiylar += 1\n",
    "if c > 0:\n",
    "    musbatlar += 1\n",
    "elif c < 0:\n",
    "    manfiylar += 1\n",
    "print(\"Misbatlar soni:\", musbatlar,\"Manfiylar soni:\", manfiylar)"
   ]
  },
  {
   "cell_type": "code",
   "execution_count": 1,
   "id": "688fa601",
   "metadata": {},
   "outputs": [
    {
     "name": "stdout",
     "output_type": "stream",
     "text": [
      "8\n"
     ]
    }
   ],
   "source": [
    "a = int(input(\"a =\"))\n",
    "b = int(input(\"b =\"))\n",
    "if a > b:\n",
    "    print(a)\n",
    "else:\n",
    "    print(b)"
   ]
  },
  {
   "cell_type": "code",
   "execution_count": 1,
   "id": "b986dca2",
   "metadata": {},
   "outputs": [
    {
     "name": "stdout",
     "output_type": "stream",
     "text": [
      "Kichik sonning tartib raqami: 23\n"
     ]
    }
   ],
   "source": [
    "a = int(input(\"a =\"))\n",
    "b = int(input(\"b =\"))\n",
    "if a > b:\n",
    "    print(\"Kichik sonning tartib raqami:\",b)\n",
    "else:\n",
    "    print(\"Kichik sonning tartib raqami:\",a)"
   ]
  },
  {
   "cell_type": "code",
   "execution_count": 6,
   "id": "e78cacdc",
   "metadata": {},
   "outputs": [
    {
     "name": "stdout",
     "output_type": "stream",
     "text": [
      "Ikkta sondan kattasi: 56 Kichigi 34\n"
     ]
    }
   ],
   "source": [
    "a = int(input(\"a =\"))\n",
    "b = int(input(\"b =\"))\n",
    "if a > b:\n",
    "    print(\"Ikkta sondan kattasi:\", a , \"Kichigi\", b) \n",
    "else:\n",
    "    print(\"Ikkta sondan kattasi:\", b , \"Kichigi\", a)\n",
    "    "
   ]
  },
  {
   "cell_type": "code",
   "execution_count": 9,
   "id": "ad8cf2ff",
   "metadata": {},
   "outputs": [
    {
     "name": "stdout",
     "output_type": "stream",
     "text": [
      "a = 12\n",
      "b = 23\n"
     ]
    }
   ],
   "source": [
    "a = int(input(\"a =\"))\n",
    "b = int(input(\"b =\"))\n",
    "if a > b:\n",
    "    a, b = b, a\n",
    "print(\"a =\", a)\n",
    "print(\"b =\", b)"
   ]
  },
  {
   "cell_type": "code",
   "execution_count": 13,
   "id": "66958f79",
   "metadata": {},
   "outputs": [
    {
     "name": "stdout",
     "output_type": "stream",
     "text": [
      "a= 6\n",
      "b= 6\n"
     ]
    }
   ],
   "source": [
    "a = int(input(\"a =\"))\n",
    "b = int(input(\"b =\"))\n",
    "if a != b:\n",
    "    a = b = a+b\n",
    "else:\n",
    "    a = b = 0\n",
    "print(\"a=\", a)\n",
    "print(\"b=\", b)\n"
   ]
  },
  {
   "cell_type": "code",
   "execution_count": 16,
   "id": "9d378fb4",
   "metadata": {},
   "outputs": [
    {
     "name": "stdout",
     "output_type": "stream",
     "text": [
      "a= 7\n",
      "b= 7\n"
     ]
    }
   ],
   "source": [
    "a = int(input(\"a =\"))\n",
    "b = int(input(\"b =\"))\n",
    "if a != b:\n",
    "    a = b = max(a, b)\n",
    "else:\n",
    "    a = b = 0\n",
    "print(\"a=\", a)\n",
    "print(\"b=\", b)"
   ]
  },
  {
   "cell_type": "code",
   "execution_count": 22,
   "id": "4e620410",
   "metadata": {},
   "outputs": [
    {
     "name": "stdout",
     "output_type": "stream",
     "text": [
      "Eng kichik son c = 1\n"
     ]
    }
   ],
   "source": [
    "a = int(input(\"a =\"))\n",
    "b = int(input(\"b =\"))\n",
    "c = int(input(\"c =\"))\n",
    "if a < b and a < c:\n",
    "    print(\"Eng kichik son a =\", a)\n",
    "elif b < a and b < c:\n",
    "    print(\"Eng kichik son b =\", b)\n",
    "else:\n",
    "    print(\"Eng kichik son c =\", c)"
   ]
  },
  {
   "cell_type": "code",
   "execution_count": 3,
   "id": "e516609a",
   "metadata": {},
   "outputs": [
    {
     "name": "stdout",
     "output_type": "stream",
     "text": [
      "O'rtacha son a = 76\n"
     ]
    }
   ],
   "source": [
    "a = int(input(\"a =\"))\n",
    "b = int(input(\"b =\"))\n",
    "c = int(input(\"c =\"))\n",
    "if (a > b and a < c) or (a > c and a < b):\n",
    "    print(\"O'rtacha son a =\", a)\n",
    "elif (b > a and b < c) or (b > c and b < a):\n",
    "    print(\"O'rtacha son b =\", b)\n",
    "else:\n",
    "    print(\"O'rtacha son c =\", c)"
   ]
  },
  {
   "cell_type": "code",
   "execution_count": 8,
   "id": "0922d084",
   "metadata": {},
   "outputs": [
    {
     "name": "stdout",
     "output_type": "stream",
     "text": [
      "Uchta sondan kichigi: 234\n",
      "Uchta sondan kattasi: 789\n"
     ]
    }
   ],
   "source": [
    "a = int(input(\"a =\"))\n",
    "b = int(input(\"b =\"))\n",
    "c = int(input(\"c =\"))\n",
    "print(\"Uchta sondan kichigi:\", min(a, b, c))\n",
    "print(\"Uchta sondan kattasi:\", max(a, b, c))"
   ]
  },
  {
   "cell_type": "code",
   "execution_count": 9,
   "id": "dd84cae0",
   "metadata": {},
   "outputs": [
    {
     "name": "stdout",
     "output_type": "stream",
     "text": [
      "Yig'indisi eng katta bo'ladigan sonlar 234 va 456\n"
     ]
    }
   ],
   "source": [
    "a = int(input(\"a =\"))\n",
    "b = int(input(\"b =\"))\n",
    "c = int(input(\"c =\"))\n",
    "if a < b and a < c:\n",
    "    print(\"Yig'indisi eng katta bo'ladigan sonlar\",b, \"va\", c)\n",
    "elif b < a and b < c:\n",
    "    print(\"Yig'indisi eng katta bo'ladigan sonlar\",a, \"va\", c)\n",
    "else:\n",
    "    print(\"Yig'indisi eng katta bo'ladigan sonlar\",a, \"va\", b)"
   ]
  },
  {
   "cell_type": "code",
   "execution_count": 11,
   "id": "98ee89d3",
   "metadata": {},
   "outputs": [
    {
     "name": "stdout",
     "output_type": "stream",
     "text": [
      "-7.0 -4.0 9.0\n"
     ]
    }
   ],
   "source": [
    "a = float(input(\"a =\"))\n",
    "b = float(input(\"b =\"))\n",
    "c = float(input(\"c =\"))\n",
    "if a <= b and b <= c:\n",
    "    a, b, c = 2*a, 2*b, 2*c\n",
    "    print(a, b, c)\n",
    "else:\n",
    "    a, b, c = -a, -b, -c\n",
    "    print(a, b, c)"
   ]
  },
  {
   "cell_type": "code",
   "execution_count": 16,
   "id": "85a98bb7",
   "metadata": {},
   "outputs": [
    {
     "name": "stdout",
     "output_type": "stream",
     "text": [
      "-4.0 -2.0 -9.0\n"
     ]
    }
   ],
   "source": [
    "a = float(input(\"a =\"))\n",
    "b = float(input(\"b =\"))\n",
    "c = float(input(\"c =\"))\n",
    "if (a <= b and b <= c) or (a >= b and b >= c):\n",
    "    a, b, c = 2*a, 2*b, 2*c\n",
    "    print(a, b, c)\n",
    "else:\n",
    "    a, b, c = -a, -b, -c\n",
    "    print(a, b, c)"
   ]
  },
  {
   "cell_type": "code",
   "execution_count": 22,
   "id": "f2cca47e",
   "metadata": {},
   "outputs": [
    {
     "name": "stdout",
     "output_type": "stream",
     "text": [
      "Uchinchi son tartib raqami 9\n"
     ]
    }
   ],
   "source": [
    "a = int(input(\"a =\"))\n",
    "b = int(input(\"b =\"))\n",
    "c = int(input(\"c =\"))\n",
    "if a == b:\n",
    "    print(\"Uchinchi son tartib raqami\", c)\n",
    "elif a == c:\n",
    "    print(\"Uchinchi son tartib raqami\", b)\n",
    "elif b == c:\n",
    "    print(\"Uchinchi son tartib raqami\", a)\n",
    "else:\n",
    "    print(\"Kiritilgan sonlar xar xil!\")"
   ]
  },
  {
   "cell_type": "code",
   "execution_count": 26,
   "id": "20adde3a",
   "metadata": {},
   "outputs": [
    {
     "name": "stdout",
     "output_type": "stream",
     "text": [
      "To'rtinchi son tartib raqami 4\n"
     ]
    }
   ],
   "source": [
    "a = int(input(\"a =\"))\n",
    "b = int(input(\"b =\"))\n",
    "c = int(input(\"c =\"))\n",
    "d = int(input(\"d =\"))\n",
    "if a == b and b == c:\n",
    "    print(\"To'rtinchi son tartib raqami\", d)\n",
    "elif a == b and a == d:\n",
    "    print(\"To'rtinchi son tartib raqami\", c)\n",
    "elif a == c and a == d:\n",
    "    print(\"To'rtinchi son tartib raqami\", b)\n",
    "elif b == c and c == d:\n",
    "    print(\"To'rtinchi son tartib raqami\", a)\n",
    "else:\n",
    "    print(\"Xato!\")"
   ]
  },
  {
   "cell_type": "code",
   "execution_count": 27,
   "id": "2a35ca12",
   "metadata": {},
   "outputs": [
    {
     "name": "stdout",
     "output_type": "stream",
     "text": [
      "A nuqtaga eng yaqin nuqta: C\n",
      "Masofa: 17.0\n"
     ]
    }
   ],
   "source": [
    "a = float(input(\"a =\"))\n",
    "b = float(input(\"b =\"))\n",
    "c = float(input(\"c =\"))\n",
    "masofaAB = abs(a-b)\n",
    "masofaAC = abs(a-c)\n",
    "if masofaAB < masofaAC:\n",
    "    print(\"A nuqtaga eng yaqin nuqta: B\")\n",
    "    print(\"Masofa:\", masofaAB)\n",
    "else:\n",
    "    print(\"A nuqtaga eng yaqin nuqta: C\")\n",
    "    print(\"Masofa:\", masofaAC)"
   ]
  },
  {
   "cell_type": "code",
   "execution_count": 29,
   "id": "1a8da5f6",
   "metadata": {},
   "outputs": [
    {
     "name": "stdout",
     "output_type": "stream",
     "text": [
      "0\n"
     ]
    }
   ],
   "source": [
    "x = int(input(\"x =\"))\n",
    "y = int(input(\"y =\"))\n",
    "if x == 0 and y == 0:\n",
    "    print(0)\n",
    "elif y == 0:\n",
    "    print(1)\n",
    "elif x == 0:\n",
    "    print(2)\n",
    "else:\n",
    "    print(3)"
   ]
  },
  {
   "cell_type": "code",
   "execution_count": 2,
   "id": "63790f2c",
   "metadata": {},
   "outputs": [
    {
     "name": "stdout",
     "output_type": "stream",
     "text": [
      "III - chorak\n"
     ]
    }
   ],
   "source": [
    "x = int(input(\"x =\"))\n",
    "y = int(input(\"y =\"))\n",
    "if x > 0 and y > 0:\n",
    "    print(\"I- chorak\")\n",
    "elif x < 0 and y > 0:\n",
    "    print(\"II- chorak\")\n",
    "elif x < 0 and y < 0:\n",
    "    print(\"III - chorak\")\n",
    "else:\n",
    "    print(\"IV- chorak\")"
   ]
  },
  {
   "cell_type": "code",
   "execution_count": 4,
   "id": "d2883fb1",
   "metadata": {},
   "outputs": [
    {
     "name": "stdout",
     "output_type": "stream",
     "text": [
      "4 - nuqta 6 va 3\n"
     ]
    }
   ],
   "source": [
    "x1 = int(input(\"1 - nuqta:\"))\n",
    "y1 = int(input(\"1 - nuqta:\"))\n",
    "x2 = int(input(\"2 - nuqta:\"))\n",
    "y2 = int(input(\"2 - nuqta:\"))\n",
    "x3 = int(input(\"3 - nuqta:\"))\n",
    "y3 = int(input(\"3 - nuqta:\"))\n",
    "if x1 == x2:\n",
    "    x4 = x3\n",
    "elif x1 == x3:\n",
    "    x4 = x2\n",
    "else:\n",
    "    x4 = x1\n",
    "\n",
    "if y1 == y2:\n",
    "    y4 = y3\n",
    "elif y1 == y3:\n",
    "    y4 = y2\n",
    "else:\n",
    "    y4 = y1\n",
    "print(\"4 - nuqta\",x4, \"va\", y4)"
   ]
  },
  {
   "cell_type": "code",
   "execution_count": 6,
   "id": "fcbee820",
   "metadata": {},
   "outputs": [
    {
     "name": "stdout",
     "output_type": "stream",
     "text": [
      "f(x) = -11.0\n"
     ]
    }
   ],
   "source": [
    "import math\n",
    "x = float(input(\"x =\"))\n",
    "if x > 0:\n",
    "    f = 2 * math.sin(x)\n",
    "else:\n",
    "    f = x - 6\n",
    "print(\"f(x) =\", f)"
   ]
  },
  {
   "cell_type": "code",
   "execution_count": 8,
   "id": "280285ae",
   "metadata": {},
   "outputs": [
    {
     "name": "stdout",
     "output_type": "stream",
     "text": [
      "f(x) = -0.0\n"
     ]
    }
   ],
   "source": [
    "import math\n",
    "x = float(input(\"x =\"))\n",
    "if x < -2 or x > 2:\n",
    "    f = 2 * x\n",
    "else:\n",
    "    f = -3 * x\n",
    "print(\"f(x) =\", f)\n"
   ]
  },
  {
   "cell_type": "code",
   "execution_count": 9,
   "id": "fa3654dd",
   "metadata": {},
   "outputs": [
    {
     "name": "stdout",
     "output_type": "stream",
     "text": [
      "f(x) = 4\n"
     ]
    }
   ],
   "source": [
    "import math\n",
    "x = float(input(\"x =\"))\n",
    "if x <= 0:\n",
    "    f = -x\n",
    "elif 0 < x and x < 2:\n",
    "    f = x * x\n",
    "else:\n",
    "    f = 4\n",
    "print(\"f(x) =\", f)"
   ]
  },
  {
   "cell_type": "code",
   "execution_count": 16,
   "id": "e1953996",
   "metadata": {},
   "outputs": [
    {
     "name": "stdout",
     "output_type": "stream",
     "text": [
      "f(x) = 1\n"
     ]
    }
   ],
   "source": [
    "import math \n",
    "x = float(input(\"x =\"))\n",
    "if x < 0:\n",
    "    f = 0\n",
    "elif int(x) % 2 == 0:\n",
    "    f = 1\n",
    "else:\n",
    "    f = -1\n",
    "print(\"f(x) =\", f)"
   ]
  },
  {
   "cell_type": "code",
   "execution_count": 18,
   "id": "2d45d6e3",
   "metadata": {},
   "outputs": [
    {
     "name": "stdout",
     "output_type": "stream",
     "text": [
      "Kabisa yili 366 kun bor.\n"
     ]
    }
   ],
   "source": [
    "n = int(input(\"n =\"))\n",
    "if (n % 4 == 0 and n % 100 != 0) or (n % 400 == 0):\n",
    "    print(\"Kabisa yili 366 kun bor.\")\n",
    "else:\n",
    "    print(\"Kabisa bo'lmagan yil 365 kun bor.\")"
   ]
  },
  {
   "cell_type": "code",
   "execution_count": 25,
   "id": "18e8f9a1",
   "metadata": {},
   "outputs": [
    {
     "name": "stdout",
     "output_type": "stream",
     "text": [
      "Bu son nolga teng.\n"
     ]
    }
   ],
   "source": [
    "n = int(input(\"n =\"))\n",
    "if n > 0 and n % 2 == 1:\n",
    "    print(\"Bu son musbat toq son.\")\n",
    "elif n < 0 and n % 2 == 0:\n",
    "    print(\"Bu son manfiy juft son.\")\n",
    "elif n > 0 and n % 2 == 0:\n",
    "    print(\"Bu son musbat juft son.\")\n",
    "elif n < 0 and n % 2 == 1:\n",
    "    print(\"Bu son manfiy toq son.\")\n",
    "else:\n",
    "    print(\"Bu son nolga teng.\")"
   ]
  },
  {
   "cell_type": "code",
   "execution_count": 34,
   "id": "3b3d4abb",
   "metadata": {},
   "outputs": [
    {
     "name": "stdout",
     "output_type": "stream",
     "text": [
      "Son ikki xonali juft.\n"
     ]
    }
   ],
   "source": [
    "n = int(input(\"n =\"))\n",
    "if n >= 10 and n <= 99 and n % 2 == 0:\n",
    "    print(\"Son ikki xonali juft.\")\n",
    "elif n >= 100 and n <= 999 and n % 2 == 1:\n",
    "    print(\"Son uch xonali toq son.\")\n",
    "else:\n",
    "    print(\"Xato!\")"
   ]
  }
 ],
 "metadata": {
  "kernelspec": {
   "display_name": "Python (venv)",
   "language": "python",
   "name": "venv"
  },
  "language_info": {
   "codemirror_mode": {
    "name": "ipython",
    "version": 3
   },
   "file_extension": ".py",
   "mimetype": "text/x-python",
   "name": "python",
   "nbconvert_exporter": "python",
   "pygments_lexer": "ipython3",
   "version": "3.12.3"
  }
 },
 "nbformat": 4,
 "nbformat_minor": 5
}
