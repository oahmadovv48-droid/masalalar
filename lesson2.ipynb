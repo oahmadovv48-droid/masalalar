{
 "cells": [
  {
   "cell_type": "code",
   "execution_count": null,
   "id": "b2649ca5",
   "metadata": {},
   "outputs": [
    {
     "name": "stdout",
     "output_type": "stream",
     "text": [
      "34 sm 0.34 metrga teng\n"
     ]
    }
   ],
   "source": [
    "# 1-misol\n",
    "L=int(input(\"Uzunlikni kiriting santimetrda:\"))\n",
    "M=L/100\n",
    "print(L,\"sm\",M,\"metrga teng\")"
   ]
  },
  {
   "cell_type": "code",
   "execution_count": null,
   "id": "510b775b",
   "metadata": {},
   "outputs": [
    {
     "name": "stdout",
     "output_type": "stream",
     "text": [
      "156 kg 0.156 Tonnaga teng\n"
     ]
    }
   ],
   "source": [
    "# 2-misol\n",
    "M=int(input(\"Og'irlikni kiriting kgda:\"))\n",
    "T=M/1000\n",
    "print(M,\"kg\",T,\"Tonnaga teng\")"
   ]
  },
  {
   "cell_type": "code",
   "execution_count": null,
   "id": "62e962f3",
   "metadata": {},
   "outputs": [
    {
     "name": "stdout",
     "output_type": "stream",
     "text": [
      "456 Bayt 0 kilobaytga teng\n"
     ]
    }
   ],
   "source": [
    "# 3-misol\n",
    "bayt=int(input(\"Faylning hajmini kiriting baytda:\"))\n",
    "kb=bayt//1024\n",
    "print(bayt,\"Bayt\",kb,\"kilobaytga teng\")"
   ]
  },
  {
   "cell_type": "code",
   "execution_count": null,
   "id": "8c800aaa",
   "metadata": {},
   "outputs": [
    {
     "name": "stdout",
     "output_type": "stream",
     "text": [
      "A kesmada B kesma 1.6428571428571428 marta joylashadi\n"
     ]
    }
   ],
   "source": [
    "# 4-misol\n",
    "A=int(input(\"A kesmani kiriting A>B A=\"))\n",
    "B=int(input(\"B kesmani kiriting A>B B=\"))\n",
    "S=A//B\n",
    "print(\"A kesmada B kesma\",S,\"marta joylashadi\")"
   ]
  },
  {
   "cell_type": "code",
   "execution_count": null,
   "id": "d92c4760",
   "metadata": {},
   "outputs": [
    {
     "name": "stdout",
     "output_type": "stream",
     "text": [
      "A kesmada B kesma 2 marta joylashadi\n",
      "A kesmada B kesma joylashmagan qismi: 5\n"
     ]
    }
   ],
   "source": [
    "# 5-misol\n",
    "A=int(input(\"A kesmani kiriting A>B A=\"))\n",
    "B=int(input(\"B kesmani kiriting A>B B=\"))\n",
    "K=A//B\n",
    "K2=A%B\n",
    "print(\"A kesmada B kesma\",K,\"marta joylashadi\")\n",
    "print(\"A kesmada B kesma joylashmagan qismi:\",K2)"
   ]
  },
  {
   "cell_type": "code",
   "execution_count": null,
   "id": "dd9a2de8",
   "metadata": {},
   "outputs": [
    {
     "name": "stdout",
     "output_type": "stream",
     "text": [
      "O'nlik xonasidagi son: 3\n",
      "Birlik xonasidagi son: 5\n"
     ]
    }
   ],
   "source": [
    "# 6-misol\n",
    "a=int(input(\"Ikki xonali son kiriting:\"))\n",
    "print(\"O'nlik xonasidagi son:\",a//10)\n",
    "print(\"Birlik xonasidagi son:\",a%10)"
   ]
  },
  {
   "cell_type": "code",
   "execution_count": null,
   "id": "df17b239",
   "metadata": {},
   "outputs": [
    {
     "name": "stdout",
     "output_type": "stream",
     "text": [
      "Raqamlar ytig'indisi 13 ga teng\n"
     ]
    }
   ],
   "source": [
    "# 7-misol\n",
    "a=int(input(\"Ikki xonali son kiriting:\"))\n",
    "unlik=a//10\n",
    "birlik=a%10\n",
    "sum=unlik+birlik\n",
    "print(\"Raqamlar ytig'indisi\",sum,\"ga teng\")"
   ]
  },
  {
   "cell_type": "code",
   "execution_count": null,
   "id": "fd18d008",
   "metadata": {},
   "outputs": [
    {
     "name": "stdout",
     "output_type": "stream",
     "text": [
      "C= 94\n"
     ]
    }
   ],
   "source": [
    "# 8-misol\n",
    "X=int(input(\"Ikki xonali son kiriting\"))\n",
    "A=X//10\n",
    "B=X%10\n",
    "C=B*10+A\n",
    "print(\"C=\",C)"
   ]
  },
  {
   "cell_type": "code",
   "execution_count": null,
   "id": "ad85811d",
   "metadata": {},
   "outputs": [
    {
     "name": "stdout",
     "output_type": "stream",
     "text": [
      "Yuzlar xonasidagi son: 4\n"
     ]
    }
   ],
   "source": [
    "# 9-misol\n",
    "N=int(input(\"Uch xonali son kiriting:\"))\n",
    "Yuz=N//100\n",
    "print(\"Yuzlar xonasidagi son:\",Yuz)"
   ]
  },
  {
   "cell_type": "code",
   "execution_count": null,
   "id": "dd3ef94b",
   "metadata": {},
   "outputs": [
    {
     "name": "stdout",
     "output_type": "stream",
     "text": [
      "Birlik xonasidagi son 6\n",
      "O'nlik xonasidagi son 9\n"
     ]
    }
   ],
   "source": [
    "# 10-misol\n",
    "N=int(input(\"Uch xonali son kiriting:\"))\n",
    "birlik=(N%100)%10\n",
    "unlik=(N%100)//10\n",
    "print(\"Birlik xonasidagi son\",birlik)\n",
    "print(\"O'nlik xonasidagi son\",unlik)"
   ]
  },
  {
   "cell_type": "code",
   "execution_count": null,
   "id": "b797c6f8",
   "metadata": {},
   "outputs": [
    {
     "name": "stdout",
     "output_type": "stream",
     "text": [
      "Uch xonali son raqamlar yig'indisi: 15\n"
     ]
    }
   ],
   "source": [
    "# 11-misol\n",
    "N=int(input(\"Uch xonali son kiriting:\"))\n",
    "birlik=(N%100)%10\n",
    "unlik=(N%100)//10\n",
    "yuzlik=N//100\n",
    "sum=birlik+unlik+yuzlik\n",
    "print(\"Uch xonali son raqamlar yig'indisi:\",sum)"
   ]
  },
  {
   "cell_type": "code",
   "execution_count": null,
   "id": "09295ca1",
   "metadata": {},
   "outputs": [
    {
     "name": "stdout",
     "output_type": "stream",
     "text": [
      "Uch xonali son teskari tartibda joylashtirildi: 853\n"
     ]
    }
   ],
   "source": [
    "# 12-misol\n",
    "N=int(input(\"Uch xonali son kiriting:\"))\n",
    "birlik=(N%100)%10\n",
    "unlik=(N%100)//10\n",
    "yuzlik=N//100\n",
    "teskari=(birlik*100)+(unlik*10)+yuzlik\n",
    "print(\"Uch xonali son teskari tartibda joylashtirildi:\",teskari)"
   ]
  },
  {
   "cell_type": "code",
   "execution_count": null,
   "id": "3bb41e96",
   "metadata": {},
   "outputs": [
    {
     "name": "stdout",
     "output_type": "stream",
     "text": [
      "Uch xonali son chapdan o'chirib o'ngga yozishdan hosil bo'lgan son 231\n"
     ]
    }
   ],
   "source": [
    "# 13-misol\n",
    "N=int(input(\"Uch xonali son kiriting:\"))\n",
    "birlik=(N%100)%10\n",
    "unlik=(N%100)//10\n",
    "yuzlik=N//100\n",
    "X=(unlik*100)+(birlik*10)+yuzlik\n",
    "print(\"Uch xonali son chapdan o'chirib o'ngga yozishdan hosil bo'lgan son\",X)"
   ]
  },
  {
   "cell_type": "code",
   "execution_count": null,
   "id": "42ce2023",
   "metadata": {},
   "outputs": [
    {
     "name": "stdout",
     "output_type": "stream",
     "text": [
      "Uch xonli son o'ngdan o'chirib chapga yozishdan hosil bo'lgan son 312\n"
     ]
    }
   ],
   "source": [
    "# 14-misol\n",
    "N=int(input(\"Uch xonali son kiriting:\"))\n",
    "birlik=(N%100)%10\n",
    "unlik=(N%100)//10\n",
    "yuzlik=N//100\n",
    "Y=(birlik*100)+(yuzlik*10)+unlik\n",
    "print(\"Uch xonli son o'ngdan o'chirib chapga yozishdan hosil bo'lgan son\",Y)"
   ]
  },
  {
   "cell_type": "code",
   "execution_count": null,
   "id": "e2d8d5a0",
   "metadata": {},
   "outputs": [
    {
     "name": "stdout",
     "output_type": "stream",
     "text": [
      "O'nlik bilan yuzlik xonasidagi raqamlarni alishtirish= 213\n"
     ]
    }
   ],
   "source": [
    "# 15-misol\n",
    "N=int(input(\"Uch xonali son kiriting:\"))\n",
    "birlik=(N%100)%10\n",
    "unlik=(N%100)//10\n",
    "yuzlik=N//100\n",
    "natija=(unlik*100)+(yuzlik*10)+birlik\n",
    "print(\"O'nlik bilan yuzlik xonasidagi raqamlarni alishtirish=\",natija)"
   ]
  },
  {
   "cell_type": "code",
   "execution_count": null,
   "id": "c13df094",
   "metadata": {},
   "outputs": [
    {
     "name": "stdout",
     "output_type": "stream",
     "text": [
      "O'nlik va birlik xonasidagi raqamlar alishtirish: 132\n"
     ]
    }
   ],
   "source": [
    "# 16-misol\n",
    "N=int(input(\"Uch xonali son kiriting:\"))\n",
    "birlik=(N%100)%10\n",
    "unlik=(N%100)//10\n",
    "yuzlik=N//100\n",
    "natija=(yuzlik*100)+(birlik*10)+unlik\n",
    "print(\"O'nlik va birlik xonasidagi raqamlar alishtirish:\",natija)"
   ]
  },
  {
   "cell_type": "code",
   "execution_count": null,
   "id": "a768f9bf",
   "metadata": {},
   "outputs": [
    {
     "name": "stdout",
     "output_type": "stream",
     "text": [
      "Yuzliklar xonasidagi son: 5\n"
     ]
    }
   ],
   "source": [
    "# 17-misol\n",
    "N=int(input(\"N>999 sonni kiriting:\"))\n",
    "natija=(N//100)%10\n",
    "print(\"Yuzliklar xonasidagi son:\",natija)"
   ]
  },
  {
   "cell_type": "code",
   "execution_count": null,
   "id": "796022f6",
   "metadata": {},
   "outputs": [
    {
     "name": "stdout",
     "output_type": "stream",
     "text": [
      "Minglik xonasidagi son: 4\n"
     ]
    }
   ],
   "source": [
    "# 18-misol\n",
    "N=int(input(\"N>999 sonni kiriting:\"))\n",
    "natija=(N//1000)%10\n",
    "print(\"Minglik xonasidagi son:\",natija)"
   ]
  },
  {
   "cell_type": "code",
   "execution_count": null,
   "id": "b68b14d8",
   "metadata": {},
   "outputs": [
    {
     "name": "stdout",
     "output_type": "stream",
     "text": [
      "Kun boshidan boshlab 94 minut to'liq o'tdi.\n"
     ]
    }
   ],
   "source": [
    "# 19-misol\n",
    "N=int(input(\"Kun boshidan boshlab o'tgan sekundni kiriting:\"))\n",
    "minut=N//60\n",
    "print(\"Kun boshidan boshlab\",minut,\"minut to'liq o'tdi.\")"
   ]
  },
  {
   "cell_type": "code",
   "execution_count": null,
   "id": "689c346c",
   "metadata": {},
   "outputs": [
    {
     "name": "stdout",
     "output_type": "stream",
     "text": [
      "Kun boshidan boshlab 27 soat to'liq o'tdi.\n"
     ]
    }
   ],
   "source": [
    "# 20-misol\n",
    "N=int(input(\"Kun boshidan boshlab o'tgan sekundni kiriting:\"))\n",
    "soat=N//3600\n",
    "print(\"Kun boshidan boshlab\",soat,(\"soat to'liq o'tdi.\"))"
   ]
  },
  {
   "cell_type": "code",
   "execution_count": null,
   "id": "75f197f0",
   "metadata": {},
   "outputs": [
    {
     "name": "stdout",
     "output_type": "stream",
     "text": [
      "Kun boshidan boshlab 6 minut 7 sekund o'tdi\n"
     ]
    }
   ],
   "source": [
    "# 21-misol\n",
    "N=int(input(\"Kun boshidan boshlab o'tgan sekundni kiriting:\"))\n",
    "minut=N//60\n",
    "sekund=N%60\n",
    "print(\"Kun boshidan boshlab\",minut,\"minut\",sekund,\"sekund o'tdi\")"
   ]
  },
  {
   "cell_type": "code",
   "execution_count": null,
   "id": "9e867764",
   "metadata": {},
   "outputs": [
    {
     "name": "stdout",
     "output_type": "stream",
     "text": [
      "Kun boshidan boshlab 1 soat 50 sekund o'tdi\n"
     ]
    }
   ],
   "source": [
    "# 22-misol\n",
    "N=int(input(\"Kun boshidan boshlab o'tgan sekundni kiriting:\"))\n",
    "soat=N//3600\n",
    "sekund=N%60\n",
    "print(\"Kun boshidan boshlab\",soat,\"soat\",sekund,\"sekund o'tdi\")"
   ]
  },
  {
   "cell_type": "code",
   "execution_count": null,
   "id": "43fbb6b4",
   "metadata": {},
   "outputs": [
    {
     "name": "stdout",
     "output_type": "stream",
     "text": [
      "Kun boshidan boshlab 2 soat 8 minut 5 sekund o'tdi.\n"
     ]
    }
   ],
   "source": [
    "# 23-misol\n",
    "N=int(input(\"Kun boshidan boshlab o'tgan sekundni kiriting:\"))\n",
    "soat=N//3600\n",
    "minut=(N%3600)//60\n",
    "sekund=N%60\n",
    "print(\"Kun boshidan boshlab\",soat,\"soat\",minut,\"minut\",sekund,\"sekund o'tdi.\")"
   ]
  },
  {
   "cell_type": "code",
   "execution_count": null,
   "id": "982c2947",
   "metadata": {},
   "outputs": [
    {
     "name": "stdout",
     "output_type": "stream",
     "text": [
      "Haftaning 6 - kuni.\n"
     ]
    }
   ],
   "source": [
    "# 24-misol\n",
    "K=int(input(\"1-365 oralig'ida son kiriting K=\"))\n",
    "haftakuni=K%7          # 1-yanvar Dushanba bo'lgandagi hol uchun.\n",
    "print(\"Haftaning\",haftakuni,\"- kuni.\")"
   ]
  },
  {
   "cell_type": "code",
   "execution_count": null,
   "id": "8b86146f",
   "metadata": {},
   "outputs": [
    {
     "name": "stdout",
     "output_type": "stream",
     "text": [
      "Hafta kuni 3\n"
     ]
    }
   ],
   "source": [
    "# 25-misol\n",
    "K=int(input(\"1-365 oralig'ida son kiriting K=\"))\n",
    "start=int(input(\"1-yanvar haftaning qaysi kuniligini kiriting 1-7=\"))\n",
    "haftakuni=(K+start-1)%7\n",
    "print(\"Haftaning\",haftakuni,\"- kuni\")"
   ]
  },
  {
   "cell_type": "code",
   "execution_count": null,
   "id": "c1687121",
   "metadata": {},
   "outputs": [
    {
     "name": "stdout",
     "output_type": "stream",
     "text": [
      "Haftaning 2 - kuni\n"
     ]
    }
   ],
   "source": [
    "# 26-misol\n",
    "K=int(input(\"1-365 oralig'ida son kiriting K=\"))\n",
    "start=int(input(\"1-yanvar haftaning qaysi kuniligini kiriting 1-7=\"))\n",
    "haftakuni=(K+start-1)%7\n",
    "print(\"Haftaning\",haftakuni,\"- kuni\")"
   ]
  },
  {
   "cell_type": "code",
   "execution_count": null,
   "id": "de6f9d7c",
   "metadata": {},
   "outputs": [
    {
     "name": "stdout",
     "output_type": "stream",
     "text": [
      "Haftaning 1 - kuni\n"
     ]
    }
   ],
   "source": [
    "# 27-misol\n",
    "K=int(input(\"1-365 oralig'ida son kiriting K=\"))\n",
    "start=int(input(\"1-yanvar haftaning qaysi kuniligini kiriting 1-7=\"))\n",
    "haftakuni=(K+start-1)%7\n",
    "print(\"Haftaning\",haftakuni,\"- kuni\")"
   ]
  },
  {
   "cell_type": "code",
   "execution_count": null,
   "id": "b84be5f9",
   "metadata": {},
   "outputs": [
    {
     "name": "stdout",
     "output_type": "stream",
     "text": [
      "Haftaning 0 - kuni\n"
     ]
    }
   ],
   "source": [
    "# 28-misol\n",
    "K=int(input(\"1-365 oralig'ida son kiriting K=\"))\n",
    "start=int(input(\"1-yanvar haftaning qaysi kuniligini kiriting 1-7=\"))\n",
    "haftakuni=(K+start-1)%7\n",
    "print(\"Haftaning\",haftakuni,\"- kuni\")"
   ]
  },
  {
   "cell_type": "code",
   "execution_count": null,
   "id": "1cebb4f7",
   "metadata": {},
   "outputs": [
    {
     "name": "stdout",
     "output_type": "stream",
     "text": [
      "eng ko'p joylashgan kvadratlar soni 1\n",
      "Joylashmay qolgan qism yuzasi 4\n"
     ]
    }
   ],
   "source": [
    "# 29-misol\n",
    "A=int(input(\"A=\"))\n",
    "B=int(input(\"B=\"))\n",
    "C=int(input(\"C=\"))\n",
    "S1=A*B\n",
    "S2=C**2\n",
    "joylashgan=S1//S2\n",
    "joylashmagan=S1%S2\n",
    "print(\"eng ko'p joylashgan kvadratlar soni\",joylashgan)\n",
    "print(\"Joylashmay qolgan qism yuzasi\",joylashmagan)\n",
    "\n"
   ]
  },
  {
   "cell_type": "code",
   "execution_count": null,
   "id": "a4b67c14",
   "metadata": {},
   "outputs": [
    {
     "name": "stdout",
     "output_type": "stream",
     "text": [
      "Kiritgan yillinggiz 14 Asrga teng\n"
     ]
    }
   ],
   "source": [
    "# 30-misol\n",
    "N=int(input(\"1-2025 gacha bo'lgan yilni kiriting:\"))\n",
    "Asr=N//100+1\n",
    "print(\"Kiritgan yillinggiz\",Asr,\"Asrga teng\")"
   ]
  }
 ],
 "metadata": {
  "kernelspec": {
   "display_name": "Python (venv)",
   "language": "python",
   "name": "venv"
  },
  "language_info": {
   "codemirror_mode": {
    "name": "ipython",
    "version": 3
   },
   "file_extension": ".py",
   "mimetype": "text/x-python",
   "name": "python",
   "nbconvert_exporter": "python",
   "pygments_lexer": "ipython3",
   "version": "3.12.3"
  }
 },
 "nbformat": 4,
 "nbformat_minor": 5
}
