{
 "cells": [
  {
   "cell_type": "code",
   "execution_count": 7,
   "id": "9689acb1",
   "metadata": {},
   "outputs": [
    {
     "name": "stdout",
     "output_type": "stream",
     "text": [
      "1 1 1 1 1 "
     ]
    }
   ],
   "source": [
    "k = int(input(\"k =\"))\n",
    "n = int(input(\"n =\"))\n",
    "for i in range(n):\n",
    "    print(k, end=\" \")\n",
    "    "
   ]
  },
  {
   "cell_type": "code",
   "execution_count": 6,
   "id": "efbeaa3a",
   "metadata": {},
   "outputs": [
    {
     "name": "stdout",
     "output_type": "stream",
     "text": [
      "2 3 4 5 6 7 Chiqgan sonlar soni: 6 -ta\n"
     ]
    }
   ],
   "source": [
    "a = int(input(\"a =\"))\n",
    "b = int(input(\"b =\"))\n",
    "hisob = 0\n",
    "for i in range(a, b + 1):\n",
    "    print(i, end=\" \")\n",
    "    hisob += 1\n",
    "print(\"Chiqgan sonlar soni:\", hisob, \"-ta\")"
   ]
  },
  {
   "cell_type": "code",
   "execution_count": 9,
   "id": "55a585a1",
   "metadata": {},
   "outputs": [
    {
     "name": "stdout",
     "output_type": "stream",
     "text": [
      "6 5 4 3 2 1 Chiqgan sonlar soni: 6\n"
     ]
    }
   ],
   "source": [
    "a = int(input(\"a =\"))\n",
    "b = int(input(\"b =\"))\n",
    "hisob = 0\n",
    "for i in range(b, a-1, -1):\n",
    "    print(i, end=\" \")\n",
    "    hisob += 1\n",
    "print(\"Chiqgan sonlar soni:\", hisob)"
   ]
  },
  {
   "cell_type": "code",
   "execution_count": 11,
   "id": "07c2f45f",
   "metadata": {},
   "outputs": [
    {
     "name": "stdout",
     "output_type": "stream",
     "text": [
      "1 kg konfetni narxi = 2300.0 so'm\n",
      "2 kg konfetni narxi = 4600.0 so'm\n",
      "3 kg konfetni narxi = 6900.0 so'm\n",
      "4 kg konfetni narxi = 9200.0 so'm\n",
      "5 kg konfetni narxi = 11500.0 so'm\n",
      "6 kg konfetni narxi = 13800.0 so'm\n",
      "7 kg konfetni narxi = 16100.0 so'm\n",
      "8 kg konfetni narxi = 18400.0 so'm\n",
      "9 kg konfetni narxi = 20700.0 so'm\n",
      "10 kg konfetni narxi = 23000.0 so'm\n"
     ]
    }
   ],
   "source": [
    "narx = float(input(\"Narxni kiriting\"))\n",
    "for i in range(1, 11):\n",
    "    print(f\"{i} kg konfetni narxi = {narx * i} so'm\")\n"
   ]
  },
  {
   "cell_type": "code",
   "execution_count": 15,
   "id": "6d95bfc7",
   "metadata": {},
   "outputs": [
    {
     "name": "stdout",
     "output_type": "stream",
     "text": [
      "0.1 kg konfetni narxi = 345.0 so'm\n",
      "0.2 kg konfetni narxi = 690.0 so'm\n",
      "0.3 kg konfetni narxi = 1035.0 so'm\n",
      "0.4 kg konfetni narxi = 1380.0 so'm\n",
      "0.5 kg konfetni narxi = 1725.0 so'm\n",
      "0.6 kg konfetni narxi = 2070.0 so'm\n",
      "0.7 kg konfetni narxi = 2415.0 so'm\n",
      "0.8 kg konfetni narxi = 2760.0 so'm\n",
      "0.9 kg konfetni narxi = 3105.0 so'm\n",
      "1.0 kg konfetni narxi = 3450.0 so'm\n"
     ]
    }
   ],
   "source": [
    "narx = float(input(\"Narxni kiriting:\"))\n",
    "for i in range(1, 11):\n",
    "    kg = i / 10\n",
    "    print(f\"{kg:.1f} kg konfetni narxi = {narx * kg} so'm\")"
   ]
  },
  {
   "cell_type": "code",
   "execution_count": 22,
   "id": "4f04af22",
   "metadata": {},
   "outputs": [
    {
     "name": "stdout",
     "output_type": "stream",
     "text": [
      "1.2 kg konfet narxi 12000.0 so'm\n",
      "1.4 kg konfet narxi 14000.0 so'm\n",
      "1.6 kg konfet narxi 15999.999999999998 so'm\n",
      "1.8 kg konfet narxi 18000.0 so'm\n",
      "2.0 kg konfet narxi 19999.999999999996 so'm\n"
     ]
    }
   ],
   "source": [
    "narx = float(input(\"Narxni kiriting:\"))\n",
    "i = 1.2\n",
    "while i <= 2:\n",
    "    print(f\"{i:.1f} kg konfet narxi {narx * i} so'm\")\n",
    "    i += 0.2"
   ]
  },
  {
   "cell_type": "code",
   "execution_count": 2,
   "id": "e7406348",
   "metadata": {},
   "outputs": [
    {
     "name": "stdout",
     "output_type": "stream",
     "text": [
      "1 dan 5 gacha bo'lgan sonlar yig'indisi = 15\n"
     ]
    }
   ],
   "source": [
    "a = int(input(\"a =\"))\n",
    "b = int(input(\"b =\"))\n",
    "sum = 0\n",
    "for i in range(a, b+1):\n",
    "    sum += i\n",
    "print(f\"{a} dan {b} gacha bo'lgan sonlar yig'indisi = {sum}\")"
   ]
  },
  {
   "cell_type": "code",
   "execution_count": 4,
   "id": "07194ed3",
   "metadata": {},
   "outputs": [
    {
     "name": "stdout",
     "output_type": "stream",
     "text": [
      "1 dan 5 gacha bo'lgan sonlar ko'paytmasi = 120\n"
     ]
    }
   ],
   "source": [
    "a = int(input(\"a =\"))\n",
    "b = int(input(\"b =\"))\n",
    "kopaytma = 1\n",
    "for i in range(a, b+1):\n",
    "    kopaytma *= i\n",
    "print(f\"{a} dan {b} gacha bo'lgan sonlar ko'paytmasi = {kopaytma}\")"
   ]
  },
  {
   "cell_type": "code",
   "execution_count": 6,
   "id": "fd989a63",
   "metadata": {},
   "outputs": [
    {
     "name": "stdout",
     "output_type": "stream",
     "text": [
      "2 dan 4 gacha bo'lgan sonlarning kvadratlari yig'indisi 29\n"
     ]
    }
   ],
   "source": [
    "a = int(input(\"a =\"))\n",
    "b = int(input(\"b =\"))\n",
    "kvsum = 0\n",
    "for i in range(a, b+1):\n",
    "    kvsum += i ** 2\n",
    "print(f\"{a} dan {b} gacha bo'lgan sonlarning kvadratlari yig'indisi {kvsum}\")"
   ]
  },
  {
   "cell_type": "code",
   "execution_count": 1,
   "id": "29751741",
   "metadata": {},
   "outputs": [
    {
     "name": "stdout",
     "output_type": "stream",
     "text": [
      "S = 2.283333333333333\n"
     ]
    }
   ],
   "source": [
    "n = int(input(\"n =\"))\n",
    "S = 0\n",
    "for i in range(1, n+1):\n",
    "    S += 1/i\n",
    "print(\"S =\", S)"
   ]
  },
  {
   "cell_type": "code",
   "execution_count": 2,
   "id": "c5c2608f",
   "metadata": {},
   "outputs": [
    {
     "name": "stdout",
     "output_type": "stream",
     "text": [
      "S = 355\n"
     ]
    }
   ],
   "source": [
    "n = int(input(\"n =\"))\n",
    "S = 0\n",
    "for i in range(n, 2*n+1):\n",
    "    S = S + i**2\n",
    "print(\"S =\", S)"
   ]
  },
  {
   "cell_type": "code",
   "execution_count": 7,
   "id": "7e743ef6",
   "metadata": {},
   "outputs": [
    {
     "name": "stdout",
     "output_type": "stream",
     "text": [
      "S = 2.4024\n"
     ]
    }
   ],
   "source": [
    "n = int(input(\"n =\"))\n",
    "S = 1\n",
    "for i in range(1, n+1):\n",
    "    S = S * (1 + i/10)\n",
    "print(\"S =\", S)"
   ]
  },
  {
   "cell_type": "code",
   "execution_count": 12,
   "id": "1fd6fa9b",
   "metadata": {},
   "outputs": [
    {
     "name": "stdout",
     "output_type": "stream",
     "text": [
      "S = 1.6\n"
     ]
    }
   ],
   "source": [
    "n = int(input(\"n =\"))\n",
    "S = 0\n",
    "for i in range(1, n+1):\n",
    "    S += ((-1) ** (i + 1)) * (1 + i/10)\n",
    "print(\"S =\", S)"
   ]
  },
  {
   "cell_type": "code",
   "execution_count": 20,
   "id": "579338a5",
   "metadata": {},
   "outputs": [
    {
     "name": "stdout",
     "output_type": "stream",
     "text": [
      "S = 1\n",
      "S = 4\n",
      "S = 9\n",
      "S = 16\n"
     ]
    }
   ],
   "source": [
    "n = int(input(\"n =\"))\n",
    "S = 0\n",
    "for i in range(1, n+1):\n",
    "    S += 2*i -1\n",
    "    print(\"S =\", S)"
   ]
  },
  {
   "cell_type": "code",
   "execution_count": 10,
   "id": "1b57178b",
   "metadata": {},
   "outputs": [
    {
     "name": "stdout",
     "output_type": "stream",
     "text": [
      "5\n",
      "S = 32.0\n"
     ]
    }
   ],
   "source": [
    "n = int(input(\"n =\"))\n",
    "a = float(input(\"a =\"))\n",
    "S = 0\n",
    "for i in range(n, n+1):\n",
    "    print(i)\n",
    "    S += a ** i\n",
    "print(\"S =\", S)"
   ]
  },
  {
   "cell_type": "code",
   "execution_count": 16,
   "id": "c01321b1",
   "metadata": {},
   "outputs": [
    {
     "name": "stdout",
     "output_type": "stream",
     "text": [
      "2.0 ni 1 - darjasi\n",
      "S = 2.0\n",
      "2.0 ni 2 - darjasi\n",
      "S = 4.0\n",
      "2.0 ni 3 - darjasi\n",
      "S = 8.0\n",
      "2.0 ni 4 - darjasi\n",
      "S = 16.0\n",
      "2.0 ni 5 - darjasi\n",
      "S = 32.0\n"
     ]
    }
   ],
   "source": [
    "n = int(input(\"n =\"))\n",
    "a = float(input(\"a =\"))\n",
    "S = 0\n",
    "for i in range(1, n+1):\n",
    "    print(a,\"ni\", i,\"- darjasi\")\n",
    "    S = a ** i\n",
    "    print(\"S =\", S)"
   ]
  },
  {
   "cell_type": "code",
   "execution_count": 26,
   "id": "3507d11c",
   "metadata": {},
   "outputs": [
    {
     "name": "stdout",
     "output_type": "stream",
     "text": [
      "Yigindi = 63.0\n"
     ]
    }
   ],
   "source": [
    "n = int(input(\"n =\"))\n",
    "a = float(input(\"a =\"))\n",
    "yigindi = 0\n",
    "for i in range(n+1):\n",
    "    yigindi += a ** i\n",
    "print(\"Yigindi =\", yigindi)"
   ]
  },
  {
   "cell_type": "code",
   "execution_count": 3,
   "id": "320aa786",
   "metadata": {},
   "outputs": [
    {
     "name": "stdout",
     "output_type": "stream",
     "text": [
      "a^0 = 1.0\n",
      "a^1 = -2.0\n",
      "a^2 = 4.0\n",
      "a^3 = -8.0\n",
      "a^4 = 16.0\n",
      "a^5 = -32.0\n",
      "Yig'indi = -21.0\n"
     ]
    }
   ],
   "source": [
    "n = int(input(\"n =\"))\n",
    "a = float(input(\"a =\"))\n",
    "S = 0\n",
    "belgi = 1\n",
    "for i in range(n+1):\n",
    "    qiymat = belgi *(a ** i)\n",
    "    print(f\"a^{i} = {qiymat}\")\n",
    "    S += qiymat \n",
    "    belgi *= -1\n",
    "print(\"Yig'indi =\",S)\n"
   ]
  },
  {
   "cell_type": "code",
   "execution_count": 5,
   "id": "1df94f30",
   "metadata": {},
   "outputs": [
    {
     "name": "stdout",
     "output_type": "stream",
     "text": [
      "S = 120\n"
     ]
    }
   ],
   "source": [
    "n = int(input(\"n =\"))\n",
    "S = 1\n",
    "for i in range(1, n+1):\n",
    "    S *= i\n",
    "print(\"S =\", S)"
   ]
  },
  {
   "cell_type": "code",
   "execution_count": null,
   "id": "d7175ac3",
   "metadata": {},
   "outputs": [
    {
     "name": "stdout",
     "output_type": "stream",
     "text": [
      "1\n",
      "2\n",
      "6\n",
      "24\n",
      "120\n",
      "S = 153\n"
     ]
    }
   ],
   "source": [
    "n = int(input(\"n =\"))\n",
    "S = 0\n",
    "Y = 1\n",
    "for i in range(1, n+1):\n",
    "    Y *= i\n",
    "    print(Y)\n",
    "    S += Y\n",
    "print(\"S =\", S)"
   ]
  },
  {
   "cell_type": "code",
   "execution_count": 9,
   "id": "b5f116f9",
   "metadata": {},
   "outputs": [
    {
     "name": "stdout",
     "output_type": "stream",
     "text": [
      "1\n",
      "2\n",
      "6\n",
      "24\n",
      "120\n",
      "S = 2.7166666666666663\n"
     ]
    }
   ],
   "source": [
    "n = int(input(\"n =\"))\n",
    "S = 1\n",
    "Y = 1\n",
    "for i in range(1, n+1):\n",
    "    Y *= i\n",
    "    print(Y)\n",
    "    S += 1 / Y\n",
    "print(\"S =\", S)"
   ]
  },
  {
   "cell_type": "code",
   "execution_count": 15,
   "id": "2692ba5d",
   "metadata": {},
   "outputs": [
    {
     "name": "stdout",
     "output_type": "stream",
     "text": [
      "Yig'indi = 7.266666666666667\n"
     ]
    }
   ],
   "source": [
    "n = int(input(\"n =\"))\n",
    "x = float(input(\"x =\"))\n",
    "yigindi = 1.0\n",
    "Y = 1.0\n",
    "for i in range(1, n+1):\n",
    "    Y *= x/i\n",
    "    yigindi += Y\n",
    "print(\"Yig'indi =\", yigindi)"
   ]
  },
  {
   "cell_type": "code",
   "execution_count": 1,
   "id": "728e9443",
   "metadata": {},
   "outputs": [
    {
     "name": "stdout",
     "output_type": "stream",
     "text": [
      "S = 0.909347442680776\n"
     ]
    }
   ],
   "source": [
    "n = int(input(\"n =\"))\n",
    "x = float(input(\"x =\"))\n",
    "S = 0\n",
    "N = 1\n",
    "for i in range(n + 1):\n",
    "    f = 1\n",
    "    for j in range(1, 2 * i + 2):\n",
    "        f *= j\n",
    "    N = ((-1) ** i) * (x ** (2 * i + 1)) / f\n",
    "    S += N\n",
    "print(\"S =\", S)"
   ]
  },
  {
   "cell_type": "code",
   "execution_count": 2,
   "id": "26a5e6a3",
   "metadata": {},
   "outputs": [
    {
     "name": "stdout",
     "output_type": "stream",
     "text": [
      "Natija = -0.9747767857142857\n"
     ]
    }
   ],
   "source": [
    "n = int(input(\"n =\"))\n",
    "x = float(input(\"x =\"))\n",
    "natija = 1\n",
    "S = 1\n",
    "for i in range(1, n+1):\n",
    "    S *= (-1) * x * x /((2 * i - 1) * (2 * i))\n",
    "    natija += S\n",
    "print(\"Natija =\", natija)"
   ]
  },
  {
   "cell_type": "code",
   "execution_count": 1,
   "id": "02342688",
   "metadata": {},
   "outputs": [
    {
     "name": "stdout",
     "output_type": "stream",
     "text": [
      "Natija = -6.5\n"
     ]
    }
   ],
   "source": [
    "n = int(input(\"n =\"))\n",
    "x = float(input(\"x =\"))\n",
    "S = 1\n",
    "for i in range(1, n+1):\n",
    "    S += ((-1)**(i - 1)) * (x**i) / i\n",
    "print(\"Natija =\", S)"
   ]
  },
  {
   "cell_type": "code",
   "execution_count": 2,
   "id": "e9ad6159",
   "metadata": {},
   "outputs": [
    {
     "name": "stdout",
     "output_type": "stream",
     "text": [
      "Natija = 45.86666666666667\n"
     ]
    }
   ],
   "source": [
    "n = int(input(\"n =\"))\n",
    "x = float(input(\"x =\"))\n",
    "S = 0\n",
    "for i in range(1, n+1):\n",
    "    S += ((-1)**i)*(x**(2*i*1))/(2*i+1)\n",
    "print(\"Natija =\", S)"
   ]
  },
  {
   "cell_type": "code",
   "execution_count": 4,
   "id": "748843bf",
   "metadata": {},
   "outputs": [
    {
     "name": "stdout",
     "output_type": "stream",
     "text": [
      "Natija = 0.5216378348214286\n"
     ]
    }
   ],
   "source": [
    "n = int(input(\"n =\"))\n",
    "x = float(input(\"x =\"))\n",
    "Sum = x\n",
    "natija = x\n",
    "for i in range(1, n+1):\n",
    "    natija *= (2*i-1)*x*x/((2*i)*(2*i+1))\n",
    "    Sum += natija\n",
    "print(\"Natija =\", Sum)"
   ]
  },
  {
   "cell_type": "code",
   "execution_count": null,
   "id": "fdd74f4f",
   "metadata": {},
   "outputs": [],
   "source": [
    "n = int(input(\"n =\"))\n",
    "x = float(input(\"x =\"))\n",
    "\n",
    "!!!!!!!!"
   ]
  },
  {
   "cell_type": "code",
   "execution_count": 7,
   "id": "92bd646d",
   "metadata": {},
   "outputs": [
    {
     "name": "stdout",
     "output_type": "stream",
     "text": [
      "[0.0, 10.0] kesma 5 ta bo'lakka bo'linadi:\n",
      "x0 = 0.0\n",
      "x1 = 2.0\n",
      "x2 = 4.0\n",
      "x3 = 6.0\n",
      "x4 = 8.0\n",
      "x5 = 10.0\n"
     ]
    }
   ],
   "source": [
    "A = float(input(\"A =\"))\n",
    "B = float(input(\"B =\"))\n",
    "n = int(input(\"n =\"))\n",
    "h = (B - A)/ n\n",
    "print(f\"[{A}, {B}] kesma {n} ta bo'lakka bo'linadi:\")\n",
    "for i in range(n+1):\n",
    "    x = A + i * h\n",
    "    print(f\"x{i} = {x}\")"
   ]
  },
  {
   "cell_type": "code",
   "execution_count": 8,
   "id": "8f3a6390",
   "metadata": {},
   "outputs": [
    {
     "name": "stdout",
     "output_type": "stream",
     "text": [
      "[0.0, 1.57] oralig'ida 3 ta bo'linma uchun F(x) = 1 - sin(x) qiymatlari:\n",
      "x0 = 0.000, F(x0) = 1.00000\n",
      "x1 = 0.523, F(x1) = 0.50023\n",
      "x2 = 1.047, F(x2) = 0.13424\n",
      "x3 = 1.570, F(x3) = 0.00000\n"
     ]
    }
   ],
   "source": [
    "import math\n",
    "A = float(input(\"A =\"))\n",
    "B = float(input(\"B =\"))\n",
    "n = int(input(\"n =\"))\n",
    "h = (B - A)/ n\n",
    "print(f\"[{A}, {B}] oralig'ida {n} ta bo'linma uchun F(x) = 1 - sin(x) qiymatlari:\")\n",
    "for i in range(n+1):\n",
    "    x = A + i * h\n",
    "    Fx = 1 - math.sin(x)\n",
    "    print(f\"x{i} = {x:.3f}, F(x{i}) = {Fx:.5f}\")"
   ]
  }
 ],
 "metadata": {
  "kernelspec": {
   "display_name": "Python (venv)",
   "language": "python",
   "name": "venv"
  },
  "language_info": {
   "codemirror_mode": {
    "name": "ipython",
    "version": 3
   },
   "file_extension": ".py",
   "mimetype": "text/x-python",
   "name": "python",
   "nbconvert_exporter": "python",
   "pygments_lexer": "ipython3",
   "version": "3.12.3"
  }
 },
 "nbformat": 4,
 "nbformat_minor": 5
}
