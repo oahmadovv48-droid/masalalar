{
 "cells": [
  {
   "cell_type": "code",
   "execution_count": 1,
   "id": "5de68aa5",
   "metadata": {},
   "outputs": [
    {
     "name": "stdout",
     "output_type": "stream",
     "text": [
      "Bo'sh qolgan kesim = 2\n"
     ]
    }
   ],
   "source": [
    "A = int(input(\"A =\"))\n",
    "B = int(input(\"B =\"))\n",
    "while A >= B:\n",
    "    A -= B\n",
    "print(\"Bo'sh qolgan kesim =\", A)\n"
   ]
  },
  {
   "cell_type": "code",
   "execution_count": 3,
   "id": "ca6fafdb",
   "metadata": {},
   "outputs": [
    {
     "name": "stdout",
     "output_type": "stream",
     "text": [
      "3 marta joylashadi.\n"
     ]
    }
   ],
   "source": [
    "A = int(input(\"A =\"))\n",
    "B = int(input(\"B =\"))\n",
    "i = 0\n",
    "while A >= B:\n",
    "    A -= B\n",
    "    i += 1\n",
    "print(i, \"marta joylashadi.\")"
   ]
  },
  {
   "cell_type": "code",
   "execution_count": 9,
   "id": "acecba08",
   "metadata": {},
   "outputs": [
    {
     "name": "stdout",
     "output_type": "stream",
     "text": [
      "Qoldiq = 2 Butun qism = 3\n"
     ]
    }
   ],
   "source": [
    "N = int(input(\"N =\"))\n",
    "K = int(input(\"K =\"))\n",
    "i = 0\n",
    "while N >= K:\n",
    "    N -= K\n",
    "    i += 1\n",
    "print(\"Qoldiq =\", N, \"Butun qism =\", i)"
   ]
  },
  {
   "cell_type": "code",
   "execution_count": 10,
   "id": "e553fd1e",
   "metadata": {},
   "outputs": [
    {
     "name": "stdout",
     "output_type": "stream",
     "text": [
      "3 ning darajasi.\n"
     ]
    }
   ],
   "source": [
    "n = int(input(\"n =\"))\n",
    "k = 1\n",
    "while k < n:\n",
    "    k = k + k + k\n",
    "if k == n:\n",
    "    print(\"3 ning darajasi.\")\n",
    "else:\n",
    "    print(\"3 ning darajasi emas!\")"
   ]
  },
  {
   "cell_type": "code",
   "execution_count": 16,
   "id": "dd95224d",
   "metadata": {},
   "outputs": [
    {
     "name": "stdout",
     "output_type": "stream",
     "text": [
      "k = 6\n"
     ]
    }
   ],
   "source": [
    "n = int(input(\"n =\"))\n",
    "k = 0\n",
    "s = 1\n",
    "while s < n:\n",
    "    s *= 2\n",
    "    k += 1\n",
    "print(\"k =\",k)"
   ]
  },
  {
   "cell_type": "code",
   "execution_count": 30,
   "id": "218043e9",
   "metadata": {},
   "outputs": [
    {
     "name": "stdout",
     "output_type": "stream",
     "text": [
      "6\n",
      "4\n",
      "2\n",
      "n!! = 48\n"
     ]
    }
   ],
   "source": [
    "n = int(input(\"n =\"))\n",
    "natija = 1\n",
    "i = n\n",
    "while i > 0:\n",
    "    print(i)\n",
    "    natija *= i\n",
    "    i -= 2\n",
    "print(\"n!! =\", natija)"
   ]
  },
  {
   "cell_type": "code",
   "execution_count": 11,
   "id": "958429de",
   "metadata": {},
   "outputs": [
    {
     "name": "stdout",
     "output_type": "stream",
     "text": [
      "4\n"
     ]
    }
   ],
   "source": [
    "n = int(input(\"n =\"))\n",
    "k = 2\n",
    "while n >= k * k:\n",
    "    k += 1\n",
    "print(k)"
   ]
  },
  {
   "cell_type": "code",
   "execution_count": 16,
   "id": "bef75763",
   "metadata": {},
   "outputs": [
    {
     "name": "stdout",
     "output_type": "stream",
     "text": [
      "3\n"
     ]
    }
   ],
   "source": [
    "n = int(input(\"n =\"))\n",
    "k = 1\n",
    "while n >= (k + 1 ) * (k + 1):\n",
    "    k += 1\n",
    "print(k)"
   ]
  },
  {
   "cell_type": "code",
   "execution_count": 24,
   "id": "778c1036",
   "metadata": {},
   "outputs": [
    {
     "name": "stdout",
     "output_type": "stream",
     "text": [
      "3\n"
     ]
    }
   ],
   "source": [
    "n = int(input(\"n = \"))\n",
    "k = 0\n",
    "while 3 ** k <= n:\n",
    "    k += 1\n",
    "print(k)\n"
   ]
  },
  {
   "cell_type": "code",
   "execution_count": 29,
   "id": "46673d82",
   "metadata": {},
   "outputs": [
    {
     "name": "stdout",
     "output_type": "stream",
     "text": [
      "4\n"
     ]
    }
   ],
   "source": [
    "n = int(input(\"n =\"))\n",
    "k = 0\n",
    "while 3 ** k <= n:\n",
    "    k += 1\n",
    "print(k)"
   ]
  },
  {
   "cell_type": "code",
   "execution_count": 41,
   "id": "d9523950",
   "metadata": {},
   "outputs": [
    {
     "name": "stdout",
     "output_type": "stream",
     "text": [
      "Eng kichik k 5\n",
      "yig'indi = 15\n"
     ]
    }
   ],
   "source": [
    "n = int(input(\"n =\"))\n",
    "s = 0\n",
    "k = 0\n",
    "while s < n:\n",
    "    k += 1\n",
    "    s += k\n",
    "print(\"Eng kichik k\", k)\n",
    "print(\"yig'indi =\", s)\n"
   ]
  },
  {
   "cell_type": "code",
   "execution_count": 40,
   "id": "513f4f13",
   "metadata": {},
   "outputs": [
    {
     "name": "stdout",
     "output_type": "stream",
     "text": [
      "Eng kichik k 4\n",
      "yig'indi = 10\n"
     ]
    }
   ],
   "source": [
    "n = int(input(\"n =\"))\n",
    "s = 0\n",
    "k = 0\n",
    "while s + (k + 1) <= n:\n",
    "    k += 1\n",
    "    s += k\n",
    "print(\"Eng kichik k\", k)\n",
    "print(\"yig'indi =\", s)\n"
   ]
  },
  {
   "cell_type": "code",
   "execution_count": 44,
   "id": "8431efd4",
   "metadata": {},
   "outputs": [
    {
     "name": "stdout",
     "output_type": "stream",
     "text": [
      "Eng kichik k = 7\n",
      "yig'indi = 2.5928571428571425\n"
     ]
    }
   ],
   "source": [
    "a = float(input(\"a =\"))\n",
    "s = 0\n",
    "k = 0\n",
    "while s < a:\n",
    "    k += 1\n",
    "    s += 1 / k\n",
    "print(\"Eng kichik k =\", k)\n",
    "print(\"yig'indi =\", s)\n"
   ]
  },
  {
   "cell_type": "code",
   "execution_count": 3,
   "id": "4edeebb2",
   "metadata": {},
   "outputs": [
    {
     "name": "stdout",
     "output_type": "stream",
     "text": [
      "Eng katta k = 6\n",
      "Yig'indi = 2.4499999999999997\n"
     ]
    }
   ],
   "source": [
    "a = float(input(\"a =\"))\n",
    "s = 0\n",
    "k = 0\n",
    "while s + 1 / (k + 1) <= a:\n",
    "    k += 1\n",
    "    s += 1 / k\n",
    "print(\"Eng katta k =\", k)\n",
    "print(\"Yig'indi =\", s)\n"
   ]
  },
  {
   "cell_type": "code",
   "execution_count": 3,
   "id": "4f78bdee",
   "metadata": {},
   "outputs": [
    {
     "name": "stdout",
     "output_type": "stream",
     "text": [
      "Oylar soni (k) = 12\n",
      "Bankdagi summa = 313842.8376721004\n"
     ]
    }
   ],
   "source": [
    "S = float(input(\"Boshlang'ich summa S = \"))\n",
    "p = float(input(\"Oyiga foiz p = \"))\n",
    "t = 3 * S               \n",
    "k = 0                        \n",
    "c = S\n",
    "while c <= t:\n",
    "    c = c * (1 + p / 100)   \n",
    "    k += 1\n",
    "print(f\"Oylar soni (k) = {k}\")\n",
    "print(f\"Bankdagi summa = {c}\")"
   ]
  },
  {
   "cell_type": "code",
   "execution_count": 10,
   "id": "10082b16",
   "metadata": {},
   "outputs": [
    {
     "name": "stdout",
     "output_type": "stream",
     "text": [
      "14 kundan keyin jami yugurgan masofasi 200 km dan oshadi\n",
      "Jami masofa = 1014 km\n"
     ]
    }
   ],
   "source": [
    "p = int(input(\"Foiz =\"))\n",
    "kun = 1\n",
    "kun_km = 10.0\n",
    "jami = kun_km\n",
    "while kun_km <= 200:\n",
    "    kun += 1\n",
    "    kun_km = kun_km * (1 + p/100)\n",
    "    jami += kun_km\n",
    "print(f\"{kun} kundan keyin jami yugurgan masofasi 200 km dan oshadi\")\n",
    "print(f\"Jami masofa = {int(jami)} km\")"
   ]
  },
  {
   "cell_type": "code",
   "execution_count": 12,
   "id": "248e0e3c",
   "metadata": {},
   "outputs": [
    {
     "name": "stdout",
     "output_type": "stream",
     "text": [
      "Butun qism = 4\n",
      "Qoldiq qism = 1\n"
     ]
    }
   ],
   "source": [
    "n = int(input(\"n =\"))\n",
    "m = int(input(\"m =\"))\n",
    "butun = 0\n",
    "qoldiq = 0\n",
    "t = n\n",
    "while t >= m:\n",
    "    t -= m\n",
    "    butun += 1\n",
    "    qoldiq = t\n",
    "print(\"Butun qism =\", butun)\n",
    "print(\"Qoldiq qism =\", qoldiq)"
   ]
  },
  {
   "cell_type": "code",
   "execution_count": 13,
   "id": "562ad8f8",
   "metadata": {},
   "outputs": [
    {
     "name": "stdout",
     "output_type": "stream",
     "text": [
      "Teskari tartib:  321\n"
     ]
    }
   ],
   "source": [
    "n = int(input(\"n =\"))\n",
    "teskari = 0\n",
    "t = n\n",
    "while t > 0:\n",
    "    d = t % 10           \n",
    "    teskari = teskari * 10 + d  \n",
    "    t //= 10  \n",
    "print(\"Teskari tartib: \", teskari)"
   ]
  },
  {
   "cell_type": "code",
   "execution_count": 20,
   "id": "5e9602ed",
   "metadata": {},
   "outputs": [
    {
     "name": "stdout",
     "output_type": "stream",
     "text": [
      "Raqamlar yig'indisi = 6\n",
      "Raqamlar soni = 3\n"
     ]
    }
   ],
   "source": [
    "n = int(input(\"n =\"))\n",
    "raqamlar_yigindisi = 0\n",
    "t = n\n",
    "count = 0\n",
    "while t > 0:\n",
    "    d = t % 10\n",
    "    raqamlar_yigindisi += d\n",
    "    count += 1\n",
    "    t //= 10 \n",
    "print(\"Raqamlar yig'indisi =\", raqamlar_yigindisi)\n",
    "print(\"Raqamlar soni =\", count)"
   ]
  },
  {
   "cell_type": "code",
   "execution_count": null,
   "id": "e1fc7411",
   "metadata": {},
   "outputs": [
    {
     "name": "stdout",
     "output_type": "stream",
     "text": [
      "Raqamlar orasida 2 bor.\n"
     ]
    }
   ],
   "source": [
    "n = int(input(\"n =\"))\n",
    "t = n\n",
    "natija = False\n",
    "while t > 0:\n",
    "    d = t % 10\n",
    "    if d == 2:\n",
    "        natija = True\n",
    "        break\n",
    "    t //= 10\n",
    "if natija:\n",
    "    print(\"Raqamlar orasida 2 bor.\")\n",
    "else:\n",
    "    print(\"Raqamlar orasida 2 yo'q.\")"
   ]
  },
  {
   "cell_type": "code",
   "execution_count": 27,
   "id": "f4d8e712",
   "metadata": {},
   "outputs": [
    {
     "name": "stdout",
     "output_type": "stream",
     "text": [
      "Raqamlar orasida toq son bor.\n"
     ]
    }
   ],
   "source": [
    "n = int(input(\"n =\"))\n",
    "t = n\n",
    "natija = False\n",
    "while t > 0:\n",
    "    d = t % 10\n",
    "    if (d % 2) == 1:\n",
    "        natija = True\n",
    "        break\n",
    "    t //= 10\n",
    "if natija:\n",
    "    print(\"Raqamlar orasida toq son bor.\")\n",
    "else:\n",
    "    print(\"Raqamlar orasida toq son yo'q.\")"
   ]
  },
  {
   "cell_type": "code",
   "execution_count": 3,
   "id": "80ad03ed",
   "metadata": {},
   "outputs": [
    {
     "name": "stdout",
     "output_type": "stream",
     "text": [
      "22 - tub son emas\n"
     ]
    }
   ],
   "source": [
    "n = int(input(\"n =\"))\n",
    "i = 2\n",
    "tub = True\n",
    "while i * i <= n:\n",
    "    if n % i == 0:\n",
    "        tub = False\n",
    "        break\n",
    "    i += 1\n",
    "if tub:\n",
    "    print(n, \"- tub son\")\n",
    "else:\n",
    "    print(n, \"- tub son emas\")"
   ]
  },
  {
   "cell_type": "code",
   "execution_count": 5,
   "id": "21f7ffef",
   "metadata": {},
   "outputs": [
    {
     "name": "stdout",
     "output_type": "stream",
     "text": [
      "Ekub = 12\n"
     ]
    }
   ],
   "source": [
    "a = int(input(\"a =\"))\n",
    "b = int(input(\"b =\"))\n",
    "while a != b:\n",
    "    if a > b:\n",
    "        a -= b\n",
    "    else:\n",
    "        b -= a\n",
    "print(\"Ekub =\", a)"
   ]
  },
  {
   "cell_type": "code",
   "execution_count": 8,
   "id": "c2265a35",
   "metadata": {},
   "outputs": [
    {
     "name": "stdout",
     "output_type": "stream",
     "text": [
      "24 Fibonachi son emas\n"
     ]
    }
   ],
   "source": [
    "n = int(input(\"n =\"))\n",
    "a, b = 1, 1\n",
    "while b < n:\n",
    "    a, b = b, a + b\n",
    "if b == n:\n",
    "    print(n, \"Fibonachi son.\")\n",
    "else:\n",
    "    print(n, \"Fibonachi son emas\")"
   ]
  },
  {
   "cell_type": "code",
   "execution_count": 11,
   "id": "69a2062b",
   "metadata": {},
   "outputs": [
    {
     "name": "stdout",
     "output_type": "stream",
     "text": [
      "Natija: 13\n"
     ]
    }
   ],
   "source": [
    "n = int(input(\"n =\"))\n",
    "a, b = 1, 1\n",
    "while b <= n:\n",
    "    a, b = b, a + b\n",
    "print(\"Natija:\", b)\n"
   ]
  },
  {
   "cell_type": "code",
   "execution_count": 12,
   "id": "43a606d0",
   "metadata": {},
   "outputs": [
    {
     "name": "stdout",
     "output_type": "stream",
     "text": [
      "Oldingi son: 8\n",
      "Keyingi son: 21\n"
     ]
    }
   ],
   "source": [
    "n = int(input(\"n =\"))\n",
    "a, b = 1, 1\n",
    "while b < n:\n",
    "    a, b = b, a + b\n",
    "if b == n:\n",
    "    print(\"Oldingi son:\", a)\n",
    "    print(\"Keyingi son:\", a + b)\n",
    "else:\n",
    "    print(\"Bu fibonachi sonmas.\")"
   ]
  },
  {
   "cell_type": "code",
   "execution_count": 17,
   "id": "6bd9895c",
   "metadata": {},
   "outputs": [
    {
     "name": "stdout",
     "output_type": "stream",
     "text": [
      "21 - 8 - fibonachi hadi.\n"
     ]
    }
   ],
   "source": [
    "n = int(input(\"n =\"))\n",
    "k = 2\n",
    "a, b = 1, 1\n",
    "while b < n:\n",
    "    a, b = b, a + b\n",
    "    k += 1\n",
    "if b == n:\n",
    "    print(n,\"-\", k, \"- fibonachi hadi.\")\n",
    "else:\n",
    "    print(\"Bu son fibonachi son emas.\")"
   ]
  },
  {
   "cell_type": "code",
   "execution_count": null,
   "id": "778f3caa",
   "metadata": {},
   "outputs": [],
   "source": [
    "#28 Misol"
   ]
  },
  {
   "cell_type": "code",
   "execution_count": null,
   "id": "f450fbee",
   "metadata": {},
   "outputs": [],
   "source": [
    "#29 Misol"
   ]
  },
  {
   "cell_type": "code",
   "execution_count": null,
   "id": "5847bec3",
   "metadata": {},
   "outputs": [],
   "source": [
    "#30 Misol"
   ]
  }
 ],
 "metadata": {
  "kernelspec": {
   "display_name": "Python (venv)",
   "language": "python",
   "name": "venv"
  },
  "language_info": {
   "codemirror_mode": {
    "name": "ipython",
    "version": 3
   },
   "file_extension": ".py",
   "mimetype": "text/x-python",
   "name": "python",
   "nbconvert_exporter": "python",
   "pygments_lexer": "ipython3",
   "version": "3.12.3"
  }
 },
 "nbformat": 4,
 "nbformat_minor": 5
}
