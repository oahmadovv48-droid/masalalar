{
 "cells": [
  {
   "cell_type": "code",
   "execution_count": 5,
   "id": "c04567ba",
   "metadata": {},
   "outputs": [
    {
     "name": "stdout",
     "output_type": "stream",
     "text": [
      "Seshanba\n"
     ]
    }
   ],
   "source": [
    "kun = int(input(\"Hafta kuni raqamini kiriting:\"))\n",
    "match kun:\n",
    "    case 1:\n",
    "        print(\"Dushanba\")\n",
    "    case 2:\n",
    "        print(\"Seshanba\")\n",
    "    case 3:\n",
    "        print(\"Chorshanba\")\n",
    "    case 4:\n",
    "        print(\"Payshanba\")\n",
    "    case 5:\n",
    "        print(\"Juma\")\n",
    "    case 6:\n",
    "        print(\"Shanba\")\n",
    "    case 7:\n",
    "        print(\"Yakshanba\")\n",
    "    case _:\n",
    "        print(\"Bunday hafta kuni mavjud emas!\")"
   ]
  },
  {
   "cell_type": "code",
   "execution_count": 7,
   "id": "1d48cf60",
   "metadata": {},
   "outputs": [
    {
     "name": "stdout",
     "output_type": "stream",
     "text": [
      "A'lo\n"
     ]
    }
   ],
   "source": [
    "baho = int(input(\"Bahoinggizni kiriting:\"))\n",
    "match baho:\n",
    "    case 5:\n",
    "        print(\"A'lo\")\n",
    "    case 4:\n",
    "        print(\"Yaxshi\")\n",
    "    case 3:\n",
    "        print(\"Qoniqarli\")\n",
    "    case 2:\n",
    "        print(\"Qoniqarsiz\")\n",
    "    case 1:\n",
    "        print(\"Yomon\")\n",
    "    case _:\n",
    "        print(\"Xato\")"
   ]
  },
  {
   "cell_type": "code",
   "execution_count": 7,
   "id": "fe10f902",
   "metadata": {},
   "outputs": [
    {
     "name": "stdout",
     "output_type": "stream",
     "text": [
      "Yoz\n"
     ]
    }
   ],
   "source": [
    "oy = int(input(\"Oy raqamini kiriting:\"))\n",
    "if oy == 12 or oy == 1 or oy == 2:\n",
    "    print(\"Qish\")\n",
    "elif oy == 3 or oy == 4 or oy == 5:\n",
    "    print(\"Bahor\")\n",
    "elif oy == 6 or oy == 7 or oy == 8:\n",
    "    print(\"Yoz\")\n",
    "elif oy == 9 or oy == 10 or oy == 11:\n",
    "    print(\"Kuz\")\n",
    "else:\n",
    "    print(\"Bunday oy mavjud emas!\")"
   ]
  },
  {
   "cell_type": "code",
   "execution_count": 11,
   "id": "4a6b56c9",
   "metadata": {},
   "outputs": [
    {
     "name": "stdout",
     "output_type": "stream",
     "text": [
      "Bu oy 28 kundan iborat.\n"
     ]
    }
   ],
   "source": [
    "oy = int(input(\"Oy raqamini kiriting:\"))\n",
    "if oy == 1 or oy == 3 or oy == 5 or oy == 7 or oy == 8 or oy == 10 or oy == 12:\n",
    "    print(\"Bu oy 31 kundan iborat.\")\n",
    "elif oy == 4 or oy == 6 or oy == 9 or oy == 11:\n",
    "    print(\"Bu oy 30 kundan iborat.\")\n",
    "elif oy == 2:\n",
    "    print(\"Bu oy 28 kundan iborat.\")\n",
    "else:\n",
    "    print(\"Bunday oy mavjud emas.\")"
   ]
  },
  {
   "cell_type": "code",
   "execution_count": 2,
   "id": "6dfea735",
   "metadata": {},
   "outputs": [
    {
     "name": "stdout",
     "output_type": "stream",
     "text": [
      "Qo'shish a + b = 4\n"
     ]
    }
   ],
   "source": [
    "a = int(input(\"a =\"))\n",
    "b = int(input(\"b =\"))\n",
    "amallar = int(input(\"amallar =\"))\n",
    "match amallar:\n",
    "    case 1:\n",
    "        print(\"Qo'shish a + b =\", a + b)\n",
    "    case 2:\n",
    "        print(\"Ayirish a - b =\", a - b)\n",
    "    case 3:\n",
    "        print(\"Bo'lish a / b =\", a / b)\n",
    "    case 4:\n",
    "        print(\"Ko'paytirish a * b\", a * b)"
   ]
  },
  {
   "cell_type": "code",
   "execution_count": 7,
   "id": "d3c4164a",
   "metadata": {},
   "outputs": [
    {
     "name": "stdout",
     "output_type": "stream",
     "text": [
      "20 detsimetr 2.0 metr\n"
     ]
    }
   ],
   "source": [
    "n = int(input(\"Uzunlikni kiriting:\"))\n",
    "uzunlik = int(input(\"Bo'limni tanlang\"))\n",
    "match uzunlik:\n",
    "    case 1:\n",
    "        print(n, \"detsimetr\", n / 10, \"metr\")\n",
    "    case 2:\n",
    "        print(n, \"kilometr\", n * 1000, \"metr\")\n",
    "    case 3:\n",
    "        print(n, \"metr\", n, \"metr\")\n",
    "    case 4:\n",
    "        print(n, \"millimetr\", n / 1000, \"metr\")\n",
    "    case 5:\n",
    "        print(n, \"santimetr\", n / 100, \"metr\")\n",
    "    case 6:\n",
    "        print(\"Xato!\")"
   ]
  },
  {
   "cell_type": "code",
   "execution_count": 11,
   "id": "3cb9e84c",
   "metadata": {},
   "outputs": [
    {
     "name": "stdout",
     "output_type": "stream",
     "text": [
      "456 milligram 0.000456 kg ga teng\n"
     ]
    }
   ],
   "source": [
    "n = int(input(\"n =\"))\n",
    "ogirlik = int(input(\"Bo'limni tanlang\"))\n",
    "match ogirlik:\n",
    "    case 1:\n",
    "        print(n,\"kg\", n, \"kg ga teng\")\n",
    "    case 2:\n",
    "        print(n,\"milligram\", n / 1000000, \"kg ga teng\")\n",
    "    case 3:\n",
    "        print(n,\"gramm\", n / 1000, \"kg ga teng\")\n",
    "    case 4:\n",
    "        print(n,\"tonna\", n * 1000, \"kg ga teng\")\n",
    "    case 5:\n",
    "        print(n,\"sentner\", n * 100, \"kg ga teng\")\n",
    "    case 6:\n",
    "        print(\"Xato!\")"
   ]
  },
  {
   "cell_type": "code",
   "execution_count": 14,
   "id": "bdff7540",
   "metadata": {},
   "outputs": [
    {
     "name": "stdout",
     "output_type": "stream",
     "text": [
      "24- aprel\n"
     ]
    }
   ],
   "source": [
    "d = int(input(\"Kun d =\"))\n",
    "m = int(input(\"Oy m =\"))\n",
    "match m:\n",
    "    case 1:\n",
    "        oy = \"yanvar\"; kunlar = 31\n",
    "    case 2:\n",
    "        oy = \"fevral\"; kunlar = 28\n",
    "    case 3:\n",
    "        oy = \"mart\"; kunlar = 31\n",
    "    case 4:\n",
    "        oy = \"aprel\"; kunlar = 30\n",
    "    case 5:\n",
    "        oy = \"may\"; kunlar = 31\n",
    "    case 6:\n",
    "        oy = \"iyyun\"; kunlar = 30\n",
    "    case 7:\n",
    "        oy = \"iyyul\"; kunlar = 31\n",
    "    case 8:\n",
    "        oy = \"avgust\"; kunlar = 31\n",
    "    case 9:\n",
    "        oy = \"sentyabr\"; kunlar = 30\n",
    "    case 10:\n",
    "        oy = \"oktyabr\"; kunlar = 31\n",
    "    case 11:\n",
    "        oy = \"noyabr\"; kunlar = 30\n",
    "    case 12:\n",
    "        oy = \"dekabr\"; kunlar = 31\n",
    "    case _:\n",
    "        oy = None\n",
    "\n",
    "if oy is None or not (1 <= d <= kunlar):\n",
    "    print(\"Noto'gri sana kiritildi!\")\n",
    "else:\n",
    "    print(f\"{d}- {oy}\")"
   ]
  },
  {
   "cell_type": "code",
   "execution_count": 3,
   "id": "1e15fb5f",
   "metadata": {},
   "outputs": [
    {
     "name": "stdout",
     "output_type": "stream",
     "text": [
      "Keyingi sana = 4 . 4\n"
     ]
    }
   ],
   "source": [
    "d = int(input(\"Kun =\"))\n",
    "m = int(input(\"Oy =\"))\n",
    "match m:\n",
    "    case 1 | 3 | 5 | 7 | 8 | 10 | 12:\n",
    "        kunlar = 31\n",
    "    case 4 | 6 | 9 | 11:\n",
    "        kunlar = 30\n",
    "    case 2:\n",
    "        kunlar = 28\n",
    "    case _:\n",
    "        print(\"Noto'g'ri oy kiritdinggiz!\")\n",
    "        exit()\n",
    "if d < kunlar:\n",
    "    d += 1\n",
    "else:\n",
    "    d = 1\n",
    "    m += 1\n",
    "    if m > 12:\n",
    "        m = 1\n",
    "print(\"Keyingi sana =\", d,\".\",m)"
   ]
  },
  {
   "cell_type": "code",
   "execution_count": 5,
   "id": "73f282f9",
   "metadata": {},
   "outputs": [
    {
     "name": "stdout",
     "output_type": "stream",
     "text": [
      "Robotning yangi yo'nalishi: s\n"
     ]
    }
   ],
   "source": [
    "Y = input(\"Robot yo'nalishi (s, j, q, g):\")\n",
    "K = int(input(\"Komanda bering:\"))\n",
    "match K:\n",
    "    case 0:\n",
    "        natija = Y\n",
    "    case 1:\n",
    "        match Y:\n",
    "            case \"s\": natija = \"g\"\n",
    "            case \"g\": natija = \"j\"\n",
    "            case \"j\": natija = \"q\"\n",
    "            case \"q\": natija = \"s\"\n",
    "    case 2:\n",
    "        match Y:\n",
    "            case \"s\": natija = \"q\"\n",
    "            case \"q\": natija = \"j\"\n",
    "            case \"j\": natija = \"g\"\n",
    "            case \"g\": natija = \"s\"\n",
    "    case _:\n",
    "        natija = \"Noto'g'ri komanda!\"\n",
    "print(\"Robotning yangi yo'nalishi:\", natija)"
   ]
  },
  {
   "cell_type": "code",
   "execution_count": null,
   "id": "7b4b7ba4",
   "metadata": {},
   "outputs": [],
   "source": [
    "L = input(\"Lokator yo'nalishi (s, j, q, g')\")\n",
    "K = int(input(\"Komanda (0, 1, 3)\"))"
   ]
  },
  {
   "cell_type": "code",
   "execution_count": 1,
   "id": "912c95c6",
   "metadata": {},
   "outputs": [
    {
     "name": "stdout",
     "output_type": "stream",
     "text": [
      "R=0.32, D=0.64, L=2.00, S=0.32\n"
     ]
    }
   ],
   "source": [
    "import math\n",
    "pi = 3.14\n",
    "n = int(input(\"Qaysi element berilgan (1 R, 2 D, 3 L, 4 S):\"))\n",
    "if n == 1:\n",
    "    R = float(input(\"R =\"))\n",
    "    D = 2 * R\n",
    "    L = 2 * pi * R\n",
    "    S = pi * R ** 2\n",
    "elif n == 2:\n",
    "    D = float(input(\"D =\"))\n",
    "    R = D / 2\n",
    "    L = 2 * pi * R\n",
    "    S = pi * R ** 2\n",
    "elif n == 3:\n",
    "    L = float(input(\"L =\"))\n",
    "    R = L / (2 * pi)\n",
    "    D = 2 * R\n",
    "    S = pi * R ** 2\n",
    "elif n == 4:\n",
    "    S = float(input(\"S =\"))\n",
    "    R = math.sqrt(S / pi)\n",
    "    D = 2 * R\n",
    "    L = 2 * pi * R\n",
    "print(f\"R={R:.2f}, D={D:.2f}, L={L:.2f}, S={S:.2f}\")"
   ]
  },
  {
   "cell_type": "code",
   "execution_count": 2,
   "id": "9de22631",
   "metadata": {},
   "outputs": [
    {
     "name": "stdout",
     "output_type": "stream",
     "text": [
      "a=2.83, c=4.00, h=2.00, S=4.00\n"
     ]
    }
   ],
   "source": [
    "import math\n",
    "n = int(input(\"Qaysi element berilgan: (1 a, 2 c, 3 h, 4 s)\"))\n",
    "if n == 1:\n",
    "    a = float(input(\"a =\"))\n",
    "    c = a * math.sqrt(2)\n",
    "    h = c / 2\n",
    "    S = (c * h) / 2\n",
    "elif n == 2:\n",
    "    c = float(input(\"c =\"))\n",
    "    a = c / math.sqrt(2)\n",
    "    h = c / 2\n",
    "    S = (c * h) / 2\n",
    "elif n == 3:\n",
    "    h = float(input(\"h =\"))\n",
    "    c = 2 * h\n",
    "    a = c / math.sqrt(2)\n",
    "    S = (c * h) / 2\n",
    "elif n == 4:\n",
    "    S = float(input(\"S =\"))\n",
    "    a = math.sqrt(2 * S)\n",
    "    c = a * math.sqrt(2)\n",
    "    h = c / 2\n",
    "print(f\"a={a:.2f}, c={c:.2f}, h={h:.2f}, S={S:.2f}\")"
   ]
  },
  {
   "cell_type": "code",
   "execution_count": 3,
   "id": "e5dc0457",
   "metadata": {},
   "outputs": [
    {
     "name": "stdout",
     "output_type": "stream",
     "text": [
      "a=3.40, R1=0.98, R2=1.96, S=5.00\n"
     ]
    }
   ],
   "source": [
    "import math\n",
    "n = int(input(\"Qaysi element berilgan: (1 a, 2 R1, 3 R2, 4 S)\"))\n",
    "if n == 1:\n",
    "    a = float(input(\"a =\"))\n",
    "    R1 = (a * math.sqrt(3)) / 6\n",
    "    R2 = 2 * R1\n",
    "    S = (a ** 2 * math.sqrt(3) / 4)\n",
    "elif n == 2:\n",
    "    R1 = float(input(\"R1 =\"))\n",
    "    a = (6 * R1) / math.sqrt(3)\n",
    "    R2 = 2 * R1\n",
    "    S = (a ** 2 * math.sqrt(3)) / 4\n",
    "elif n == 3:\n",
    "    R2 = float(input(\"R2 =\"))\n",
    "    R1 = R2 / 2\n",
    "    a = (6 * R1) / math.sqrt(3)\n",
    "    S = (a ** 2 * math.sqrt(3)) / 4\n",
    "elif n == 4:\n",
    "    S = float(input(\"S =\"))\n",
    "    a = math.sqrt((4 * S) / math.sqrt(3))\n",
    "    R1 = (a * math.sqrt(3)) / 6\n",
    "    R2 = 2 * R1\n",
    "print(f\"a={a:.2f}, R1={R1:.2f}, R2={R2:.2f}, S={S:.2f}\")"
   ]
  },
  {
   "cell_type": "code",
   "execution_count": 4,
   "id": "52351de5",
   "metadata": {},
   "outputs": [
    {
     "name": "stdout",
     "output_type": "stream",
     "text": [
      "Nomi: dama Turi: chillak\n"
     ]
    }
   ],
   "source": [
    "N = int(input(\"Karta qiymati (11-14)\"))\n",
    "M = int(input(\"Karta turi 1-4\"))\n",
    "if N == 11:\n",
    "    nom = \"valet\"\n",
    "elif N == 12:\n",
    "    nom = \"dama\"\n",
    "elif N == 13:\n",
    "    nom = \"qirol\"\n",
    "elif N == 14:\n",
    "    nom = \"tuz\"\n",
    "\n",
    "if M == 1:\n",
    "    tur = \"g'isht\"\n",
    "elif M == 2:\n",
    "    tur = \"olma\"\n",
    "elif M == 3:\n",
    "    tur = \"chillak\"\n",
    "elif M == 4:\n",
    "    tur = \"qarg'a\"\n",
    "print(\"Nomi:\",nom, \"Turi:\", tur)"
   ]
  },
  {
   "cell_type": "code",
   "execution_count": 7,
   "id": "779c3698",
   "metadata": {},
   "outputs": [
    {
     "name": "stdout",
     "output_type": "stream",
     "text": [
      "yigirmaikki yosh\n"
     ]
    }
   ],
   "source": [
    "n = int(input(\"Yosh (20-69):\"))\n",
    "onlik = n // 10\n",
    "birlik = n % 10\n",
    "match onlik:\n",
    "    case 2: matn = \"yigirma\"\n",
    "    case 3: matn = \"o'ttiz\"\n",
    "    case 4: matn = \"qirq\"\n",
    "    case 5: matn = \"ellik\"\n",
    "    case 6: matn = \"oltmish\"\n",
    "    case _: matn = \"\"\n",
    "\n",
    "match birlik:\n",
    "    case 1: matn += \"bir\"\n",
    "    case 2: matn += \"ikki\"\n",
    "    case 3: matn += \"uch\"\n",
    "    case 4: matn += \"to'rt\"\n",
    "    case 5: matn += \"besh\"\n",
    "    case 6: matn += \"olti\"\n",
    "    case 7: matn += \"yetti\"\n",
    "    case 8: matn += \"sakkiz\"\n",
    "    case 9: matn += \"to'qqiz\"\n",
    "    case _: pass\n",
    "print(matn,\"yosh\")"
   ]
  },
  {
   "cell_type": "code",
   "execution_count": 9,
   "id": "345754b3",
   "metadata": {},
   "outputs": [
    {
     "name": "stdout",
     "output_type": "stream",
     "text": [
      "o'nbesh ta masala\n"
     ]
    }
   ],
   "source": [
    "n = int(input(\"Masala (10-40):\"))\n",
    "onlik = n // 10\n",
    "birlik = n % 10\n",
    "match onlik:\n",
    "    case 1: matn = \"o'n\"\n",
    "    case 2: matn = \"yigirma\"\n",
    "    case 3: matn = \"o'ttiz\"\n",
    "    case 4: matn = \"qirq\"\n",
    "\n",
    "match birlik:\n",
    "    case 1: matn += \"bir\"\n",
    "    case 2: matn += \"ikki\"\n",
    "    case 3: matn += \"uch\"\n",
    "    case 4: matn += \"to'rt\"\n",
    "    case 5: matn += \"besh\"\n",
    "    case 6: matn += \"olti\"\n",
    "    case 7: matn += \"yetti\"\n",
    "    case 8: matn += \"sakkiz\"\n",
    "    case 9: matn += \"to'qqiz\"\n",
    "    case _: pass\n",
    "\n",
    "print(matn,\"ta masala\")"
   ]
  },
  {
   "cell_type": "code",
   "execution_count": 16,
   "id": "958e940d",
   "metadata": {},
   "outputs": [
    {
     "name": "stdout",
     "output_type": "stream",
     "text": [
      "Yetti yuz yetmish yetti\n"
     ]
    }
   ],
   "source": [
    "n = int(input(\"Son (100-999):\"))\n",
    "yuzlik = n // 100\n",
    "onlik = (n // 10) % 10\n",
    "birlik = n % 10\n",
    "match yuzlik:\n",
    "    case 1: matn = \"Bir yuz\"\n",
    "    case 2: matn = \"Ikki yuz\"\n",
    "    case 3: matn = \"Uch yuz\"\n",
    "    case 4: matn = \"To'rt yuz\"\n",
    "    case 5: matn = \"Besh yuz\"\n",
    "    case 6: matn = \"Olti yuz\"\n",
    "    case 7: matn = \"Yetti yuz\"\n",
    "    case 8: matn = \"Sakkiz yuz\"\n",
    "    case 9: matn = \"To'qizz yuz\"\n",
    "    case _: matn = \"\"\n",
    "match onlik:\n",
    "    case 1: matn += \" o'n\"\n",
    "    case 2: matn += \" yigirma\"\n",
    "    case 3: matn += \" o'ttiz\"\n",
    "    case 4: matn += \" qirq\"\n",
    "    case 5: matn += \" ellik\"\n",
    "    case 6: matn += \" oltmish\"\n",
    "    case 7: matn += \" yetmish\"\n",
    "    case 8: matn += \" sakson\"\n",
    "    case 9: matn += \" to'qson\"\n",
    "    case _: pass\n",
    "match birlik:\n",
    "    case 1: matn += \" bir\"\n",
    "    case 2: matn += \" ikki\"\n",
    "    case 3: matn += \" uch\"\n",
    "    case 4: matn += \" to'rt\"\n",
    "    case 5: matn += \" besh\"\n",
    "    case 6: matn += \" olti\"\n",
    "    case 7: matn += \" yetti\"\n",
    "    case 8: matn += \" sakkiz\"\n",
    "    case 9: matn += \" to'qqiz\"\n",
    "    case _: pass\n",
    "\n",
    "print(matn)"
   ]
  },
  {
   "cell_type": "code",
   "execution_count": null,
   "id": "e91495ee",
   "metadata": {},
   "outputs": [],
   "source": []
  },
  {
   "cell_type": "code",
   "execution_count": null,
   "id": "1856f6ff",
   "metadata": {},
   "outputs": [],
   "source": []
  }
 ],
 "metadata": {
  "kernelspec": {
   "display_name": "Python (venv)",
   "language": "python",
   "name": "venv"
  },
  "language_info": {
   "codemirror_mode": {
    "name": "ipython",
    "version": 3
   },
   "file_extension": ".py",
   "mimetype": "text/x-python",
   "name": "python",
   "nbconvert_exporter": "python",
   "pygments_lexer": "ipython3",
   "version": "3.12.3"
  }
 },
 "nbformat": 4,
 "nbformat_minor": 5
}
