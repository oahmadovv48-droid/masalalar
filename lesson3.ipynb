{
 "cells": [
  {
   "cell_type": "code",
   "execution_count": 4,
   "id": "605f911c",
   "metadata": {},
   "outputs": [
    {
     "name": "stdout",
     "output_type": "stream",
     "text": [
      "True\n"
     ]
    }
   ],
   "source": [
    "A=int(input(\"A sonini kiriting:\"))\n",
    "print(A>0)"
   ]
  },
  {
   "cell_type": "code",
   "execution_count": 12,
   "id": "50ccf142",
   "metadata": {},
   "outputs": [
    {
     "name": "stdout",
     "output_type": "stream",
     "text": [
      "True\n"
     ]
    }
   ],
   "source": [
    "A=int(input(\"A sonini kiriting:\"))\n",
    "print(A%2!=0)"
   ]
  },
  {
   "cell_type": "code",
   "execution_count": null,
   "id": "460a8cae",
   "metadata": {},
   "outputs": [
    {
     "name": "stdout",
     "output_type": "stream",
     "text": [
      "True\n"
     ]
    }
   ],
   "source": [
    "A=int(input(\"A butun sonini kiriting:\"))\n",
    "print(A%2==0)"
   ]
  },
  {
   "cell_type": "code",
   "execution_count": 14,
   "id": "7c895251",
   "metadata": {},
   "outputs": [
    {
     "name": "stdout",
     "output_type": "stream",
     "text": [
      "True\n"
     ]
    }
   ],
   "source": [
    "A=int(input(\"A butun sonini kiriting:\"))\n",
    "B=int(input(\"B butun sonini kiriting:\"))\n",
    "print(A>2 and B<=3)\n"
   ]
  },
  {
   "cell_type": "code",
   "execution_count": 15,
   "id": "e80cc7c6",
   "metadata": {},
   "outputs": [
    {
     "name": "stdout",
     "output_type": "stream",
     "text": [
      "True\n"
     ]
    }
   ],
   "source": [
    "A=int(input(\"A butun sonini kiriting:\"))\n",
    "B=int(input(\"B butun sonini kiriting:\"))\n",
    "print(A>=0 or B<-2)"
   ]
  },
  {
   "cell_type": "code",
   "execution_count": 17,
   "id": "12110952",
   "metadata": {},
   "outputs": [
    {
     "name": "stdout",
     "output_type": "stream",
     "text": [
      "True\n"
     ]
    }
   ],
   "source": [
    "A=int(input(\"A butun sonini kiriting:\"))\n",
    "B=int(input(\"B butun sonini kiriting:\"))\n",
    "C=int(input(\"C butun sonini kiriting:\"))\n",
    "print(A<=B<=C)"
   ]
  },
  {
   "cell_type": "code",
   "execution_count": 20,
   "id": "34c6610b",
   "metadata": {},
   "outputs": [
    {
     "name": "stdout",
     "output_type": "stream",
     "text": [
      "True\n"
     ]
    }
   ],
   "source": [
    "A=int(input(\"A butun sonini kiriting:\"))\n",
    "B=int(input(\"B butun sonini kiriting:\"))\n",
    "C=int(input(\"C butun sonini kiriting:\"))\n",
    "print(A<B<C)"
   ]
  },
  {
   "cell_type": "code",
   "execution_count": 23,
   "id": "979f54c9",
   "metadata": {},
   "outputs": [
    {
     "name": "stdout",
     "output_type": "stream",
     "text": [
      "True\n"
     ]
    }
   ],
   "source": [
    "A=int(input(\"A butun sonini kiriting:\"))\n",
    "B=int(input(\"B butun sonini kiriting:\"))\n",
    "print(A%2!=0 and B%2!=0)"
   ]
  },
  {
   "cell_type": "code",
   "execution_count": 25,
   "id": "bea5a7ab",
   "metadata": {},
   "outputs": [
    {
     "name": "stdout",
     "output_type": "stream",
     "text": [
      "True\n"
     ]
    }
   ],
   "source": [
    "A=int(input(\"A butun sonini kiriting:\"))\n",
    "B=int(input(\"B butun sonini kiriting:\"))\n",
    "print(A%2!=0 or B%2!=0)"
   ]
  },
  {
   "cell_type": "code",
   "execution_count": 29,
   "id": "b7d2b8e5",
   "metadata": {},
   "outputs": [
    {
     "name": "stdout",
     "output_type": "stream",
     "text": [
      "True\n"
     ]
    }
   ],
   "source": [
    "A=int(input(\"A butun sonini kiriting:\"))\n",
    "B=int(input(\"B butun sonini kiriting:\"))\n",
    "natija=(A%2==0 and B%2==1) or (A%2==1 and B%2==0)\n",
    "print(natija)"
   ]
  },
  {
   "cell_type": "code",
   "execution_count": 33,
   "id": "1cce5c7b",
   "metadata": {},
   "outputs": [
    {
     "name": "stdout",
     "output_type": "stream",
     "text": [
      "True\n"
     ]
    }
   ],
   "source": [
    "A=int(input(\"A butun sonini kiriting:\"))\n",
    "B=int(input(\"B butun sonini kiriting:\"))\n",
    "natija=(A%2==0 and B%2==0) or (A%2!=0 and B%2!=0)\n",
    "print(natija)"
   ]
  },
  {
   "cell_type": "code",
   "execution_count": 36,
   "id": "5d669d8b",
   "metadata": {},
   "outputs": [
    {
     "name": "stdout",
     "output_type": "stream",
     "text": [
      "True\n"
     ]
    }
   ],
   "source": [
    "A=int(input(\"A butun sonini kiriting:\"))\n",
    "B=int(input(\"B butun sonini kiriting:\"))\n",
    "C=int(input(\"C butun sonini kiriting:\"))\n",
    "print(A>0 and B>0 and C>0)"
   ]
  },
  {
   "cell_type": "code",
   "execution_count": 39,
   "id": "7d56e0ea",
   "metadata": {},
   "outputs": [
    {
     "name": "stdout",
     "output_type": "stream",
     "text": [
      "True\n"
     ]
    }
   ],
   "source": [
    "A=int(input(\"A butun sonini kiriting:\"))\n",
    "B=int(input(\"B butun sonini kiriting:\"))\n",
    "C=int(input(\"C butun sonini kiriting:\"))\n",
    "print(A>0 or B>0 or C>0)"
   ]
  },
  {
   "cell_type": "code",
   "execution_count": 43,
   "id": "0463ed37",
   "metadata": {},
   "outputs": [
    {
     "name": "stdout",
     "output_type": "stream",
     "text": [
      "True\n"
     ]
    }
   ],
   "source": [
    "A=int(input(\"A butun sonini kiriting:\"))\n",
    "B=int(input(\"B butun sonini kiriting:\"))\n",
    "C=int(input(\"C butun sonini kiriting:\"))\n",
    "print((A>0 and B<0 and C<0) or (A<0 and B>0 and C<0) or (A<0 and B<0 and C>0))"
   ]
  },
  {
   "cell_type": "code",
   "execution_count": 4,
   "id": "6325c185",
   "metadata": {},
   "outputs": [
    {
     "name": "stdout",
     "output_type": "stream",
     "text": [
      "True\n"
     ]
    }
   ],
   "source": [
    "A=int(input(\"A butun sonini kiriting:\"))\n",
    "B=int(input(\"B butun sonini kiriting:\"))\n",
    "C=int(input(\"C butun sonini kiriting:\"))\n",
    "print((A>0 and B>0 and C<0) or (A>0 and B<0 and C>0) or (A<0 and B>0 and C>0))"
   ]
  },
  {
   "cell_type": "code",
   "execution_count": 9,
   "id": "e8d773b2",
   "metadata": {},
   "outputs": [
    {
     "name": "stdout",
     "output_type": "stream",
     "text": [
      "True\n"
     ]
    }
   ],
   "source": [
    "N=int(input(\"Musbat butun son kiriting:\"))\n",
    "print((N>=10 and N<=99) and (N%2==0))\n"
   ]
  },
  {
   "cell_type": "code",
   "execution_count": 14,
   "id": "ae4093a7",
   "metadata": {},
   "outputs": [
    {
     "name": "stdout",
     "output_type": "stream",
     "text": [
      "True\n"
     ]
    }
   ],
   "source": [
    "N=int(input(\"Musbat butun son kiriting:\"))\n",
    "print((N>99 and N<=999) and (N%2!=0))"
   ]
  },
  {
   "cell_type": "code",
   "execution_count": 18,
   "id": "222f7e90",
   "metadata": {},
   "outputs": [
    {
     "name": "stdout",
     "output_type": "stream",
     "text": [
      "True\n"
     ]
    }
   ],
   "source": [
    "A=int(input(\"A butun sonini kiriting:\"))\n",
    "B=int(input(\"B butun sonini kiriting:\"))\n",
    "C=int(input(\"C butun sonini kiriting:\"))\n",
    "print((A==B) or (B==C) or (A==C))"
   ]
  },
  {
   "cell_type": "code",
   "execution_count": 2,
   "id": "fa63ab97",
   "metadata": {},
   "outputs": [
    {
     "name": "stdout",
     "output_type": "stream",
     "text": [
      "True\n"
     ]
    }
   ],
   "source": [
    "A=int(input(\"A butun sonini kiriting:\"))\n",
    "B=int(input(\"B butun sonini kiriting:\"))\n",
    "C=int(input(\"C butun sonini kiriting:\"))\n",
    "print((A==-B) or (A==-C) or (B==-C))"
   ]
  },
  {
   "cell_type": "code",
   "execution_count": 7,
   "id": "cd183cbe",
   "metadata": {},
   "outputs": [
    {
     "name": "stdout",
     "output_type": "stream",
     "text": [
      "True\n"
     ]
    }
   ],
   "source": [
    "N=int(input(\"Uch xonali son kiriting:\"))\n",
    "yuzlik=N//100\n",
    "unlik=(N%100)//10\n",
    "birlik=(N%100)%10\n",
    "print((yuzlik!=unlik) and (yuzlik!=birlik) and (unlik!=birlik))"
   ]
  },
  {
   "cell_type": "code",
   "execution_count": 13,
   "id": "2a485083",
   "metadata": {},
   "outputs": [
    {
     "name": "stdout",
     "output_type": "stream",
     "text": [
      "True\n"
     ]
    }
   ],
   "source": [
    "N=int(input(\"Uch xonali son kiriting:\"))\n",
    "yuzlik=N//100\n",
    "unlik=(N%100)//10\n",
    "birlik=(N%100)%10\n",
    "print((yuzlik<=unlik) and (unlik<=birlik))"
   ]
  },
  {
   "cell_type": "code",
   "execution_count": 17,
   "id": "7a0c1518",
   "metadata": {},
   "outputs": [
    {
     "name": "stdout",
     "output_type": "stream",
     "text": [
      "True\n"
     ]
    }
   ],
   "source": [
    "N=int(input(\"Uch xonali son kiriting:\"))\n",
    "yuzlik=N//100\n",
    "unlik=(N%100)//10\n",
    "birlik=(N%100)%10\n",
    "print(((yuzlik<=unlik) and (unlik<=birlik)) or (yuzlik>=unlik) and (unlik>=birlik))"
   ]
  },
  {
   "cell_type": "code",
   "execution_count": 20,
   "id": "8f087559",
   "metadata": {},
   "outputs": [
    {
     "name": "stdout",
     "output_type": "stream",
     "text": [
      "True\n"
     ]
    }
   ],
   "source": [
    "N=int(input(\"Uch xonali son kiriting:\"))\n",
    "yuzlik=N//100\n",
    "unlik=(N%100)//10\n",
    "birlik=(N%100)%10\n",
    "print((yuzlik==birlik) or (yuzlik==unlik and yuzlik==birlik and unlik==birlik))"
   ]
  },
  {
   "cell_type": "code",
   "execution_count": 23,
   "id": "2190384e",
   "metadata": {},
   "outputs": [
    {
     "name": "stdout",
     "output_type": "stream",
     "text": [
      "True\n"
     ]
    }
   ],
   "source": [
    "A=int(input(\"(A!=0) A=\"))\n",
    "B=int(input(\"B=\"))\n",
    "C=int(input(\"C=\"))\n",
    "print((B**2-4*A*C)>=0)"
   ]
  },
  {
   "cell_type": "code",
   "execution_count": 1,
   "id": "35d60671",
   "metadata": {},
   "outputs": [
    {
     "name": "stdout",
     "output_type": "stream",
     "text": [
      "True\n"
     ]
    }
   ],
   "source": [
    "x=float(input(\"x=\"))\n",
    "y=float(input(\"y=\"))\n",
    "print(x<0 and y>0)"
   ]
  },
  {
   "cell_type": "code",
   "execution_count": 2,
   "id": "6ca48bd6",
   "metadata": {},
   "outputs": [
    {
     "name": "stdout",
     "output_type": "stream",
     "text": [
      "True\n"
     ]
    }
   ],
   "source": [
    "x=float(input(\"x=\"))\n",
    "y=float(input(\"y=\"))\n",
    "print(x>0 and y<0)"
   ]
  },
  {
   "cell_type": "code",
   "execution_count": 5,
   "id": "139639ca",
   "metadata": {},
   "outputs": [
    {
     "name": "stdout",
     "output_type": "stream",
     "text": [
      "True\n"
     ]
    }
   ],
   "source": [
    "x=float(input(\"x=\"))\n",
    "y=float(input(\"y=\"))\n",
    "print((x<0 and y>0) or (x<0 and y<0))"
   ]
  },
  {
   "cell_type": "code",
   "execution_count": 6,
   "id": "d857a0b0",
   "metadata": {},
   "outputs": [
    {
     "name": "stdout",
     "output_type": "stream",
     "text": [
      "True\n"
     ]
    }
   ],
   "source": [
    "x=float(input(\"x=\"))\n",
    "y=float(input(\"y=\"))\n",
    "print((x>0 and y>0) or (x<0 and y<0))"
   ]
  },
  {
   "cell_type": "code",
   "execution_count": 7,
   "id": "83080c5f",
   "metadata": {},
   "outputs": [
    {
     "name": "stdout",
     "output_type": "stream",
     "text": [
      "True\n"
     ]
    }
   ],
   "source": [
    "x = float(input(\"x = \"))\n",
    "y = float(input(\"y = \"))\n",
    "x1 = float(input(\"x1 = \"))\n",
    "y1 = float(input(\"y1 = \"))\n",
    "x2 = float(input(\"x2 = \"))\n",
    "y2 = float(input(\"y2 = \"))\n",
    "\n",
    "print(x1 < x < x2 and y2 < y < y1)"
   ]
  },
  {
   "cell_type": "code",
   "execution_count": 13,
   "id": "a4de25cd",
   "metadata": {},
   "outputs": [
    {
     "name": "stdout",
     "output_type": "stream",
     "text": [
      "True\n"
     ]
    }
   ],
   "source": [
    "a = float(input(\"a = \"))\n",
    "b = float(input(\"b = \"))\n",
    "c = float(input(\"c = \"))\n",
    "print(a==b==c)"
   ]
  },
  {
   "cell_type": "code",
   "execution_count": null,
   "id": "75689c53",
   "metadata": {},
   "outputs": [
    {
     "name": "stdout",
     "output_type": "stream",
     "text": [
      "False\n"
     ]
    }
   ],
   "source": [
    "a = float(input(\"a = \"))\n",
    "b = float(input(\"b = \"))\n",
    "c = float(input(\"c = \"))\n",
    "print(a==b or a==c or b==c)"
   ]
  },
  {
   "cell_type": "code",
   "execution_count": 22,
   "id": "3eca8765",
   "metadata": {},
   "outputs": [
    {
     "name": "stdout",
     "output_type": "stream",
     "text": [
      "True\n"
     ]
    }
   ],
   "source": [
    "a = float(input(\"a = \"))\n",
    "b = float(input(\"b = \"))\n",
    "c = float(input(\"c = \"))\n",
    "print((c*c == a*a + b*b) or (a*a == b*b + c*c) or (b*b == a*a + c*c))"
   ]
  },
  {
   "cell_type": "code",
   "execution_count": 24,
   "id": "27d17ea3",
   "metadata": {},
   "outputs": [
    {
     "name": "stdout",
     "output_type": "stream",
     "text": [
      "True\n"
     ]
    }
   ],
   "source": [
    "x = float(input(\"x = \"))\n",
    "y = float(input(\"y = \"))\n",
    "print((x+y)%2!=0)\n"
   ]
  },
  {
   "cell_type": "code",
   "execution_count": 25,
   "id": "e0089b74",
   "metadata": {},
   "outputs": [
    {
     "name": "stdout",
     "output_type": "stream",
     "text": [
      "True\n"
     ]
    }
   ],
   "source": [
    "x1 = float(input(\"x1 = \"))\n",
    "y1 = float(input(\"y1 = \"))\n",
    "x2 = float(input(\"x2 = \"))\n",
    "y2 = float(input(\"y2 = \"))\n",
    "print((x1+y1)%2 == (x2+y2)%2)"
   ]
  },
  {
   "cell_type": "code",
   "execution_count": 28,
   "id": "62630ffc",
   "metadata": {},
   "outputs": [
    {
     "name": "stdout",
     "output_type": "stream",
     "text": [
      "True\n"
     ]
    }
   ],
   "source": [
    "x1 = float(input(\"x1 = \"))\n",
    "y1 = float(input(\"y1 = \"))\n",
    "x2 = float(input(\"x2 = \"))\n",
    "y2 = float(input(\"y2 = \"))\n",
    "print(x1==x2 or y1==y2)"
   ]
  },
  {
   "cell_type": "code",
   "execution_count": 29,
   "id": "b56f408e",
   "metadata": {},
   "outputs": [
    {
     "name": "stdout",
     "output_type": "stream",
     "text": [
      "True\n"
     ]
    }
   ],
   "source": [
    "x1 = float(input(\"x1 = \"))\n",
    "y1 = float(input(\"y1 = \"))\n",
    "x2 = float(input(\"x2 = \"))\n",
    "y2 = float(input(\"y2 = \"))\n",
    "print(abs(x1-x2) <= 1 and abs(y1-y2) <= 1)"
   ]
  },
  {
   "cell_type": "code",
   "execution_count": 30,
   "id": "923485d6",
   "metadata": {},
   "outputs": [
    {
     "name": "stdout",
     "output_type": "stream",
     "text": [
      "True\n"
     ]
    }
   ],
   "source": [
    "x1 = float(input(\"x1 = \"))\n",
    "y1 = float(input(\"y1 = \"))\n",
    "x2 = float(input(\"x2 = \"))\n",
    "y2 = float(input(\"y2 = \"))\n",
    "print(abs(x1-x2) == abs(y1-y2))"
   ]
  },
  {
   "cell_type": "code",
   "execution_count": 31,
   "id": "42a9776d",
   "metadata": {},
   "outputs": [
    {
     "name": "stdout",
     "output_type": "stream",
     "text": [
      "True\n"
     ]
    }
   ],
   "source": [
    "x1 = float(input(\"x1 = \"))\n",
    "y1 = float(input(\"y1 = \"))\n",
    "x2 = float(input(\"x2 = \"))\n",
    "y2 = float(input(\"y2 = \"))\n",
    "print(x1 == x2 or y1 == y2)"
   ]
  },
  {
   "cell_type": "code",
   "execution_count": 36,
   "id": "cd14c586",
   "metadata": {},
   "outputs": [
    {
     "name": "stdout",
     "output_type": "stream",
     "text": [
      "True\n"
     ]
    }
   ],
   "source": [
    "x1 = float(input(\"x1 = \"))\n",
    "y1 = float(input(\"y1 = \"))\n",
    "x2 = float(input(\"x2 = \"))\n",
    "y2 = float(input(\"y2 = \"))\n",
    "print((abs(x1-x2) == 2 and abs(y1-y2) == 1) or (abs(x1-x2) == 1 and abs(y1-y2) == 2))"
   ]
  }
 ],
 "metadata": {
  "kernelspec": {
   "display_name": "myenv",
   "language": "python",
   "name": "python3"
  },
  "language_info": {
   "codemirror_mode": {
    "name": "ipython",
    "version": 3
   },
   "file_extension": ".py",
   "mimetype": "text/x-python",
   "name": "python",
   "nbconvert_exporter": "python",
   "pygments_lexer": "ipython3",
   "version": "3.12.3"
  }
 },
 "nbformat": 4,
 "nbformat_minor": 5
}
